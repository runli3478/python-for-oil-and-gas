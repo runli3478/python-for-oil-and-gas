{
  "nbformat": 4,
  "nbformat_minor": 0,
  "metadata": {
    "colab": {
      "name": "Lecture16.ipynb",
      "provenance": []
    },
    "kernelspec": {
      "name": "python3",
      "display_name": "Python 3"
    },
    "language_info": {
      "name": "python"
    }
  },
  "cells": [
    {
      "cell_type": "markdown",
      "source": [
        "Inheritance"
      ],
      "metadata": {
        "id": "NdzhVA-DAP_A"
      }
    },
    {
      "cell_type": "code",
      "execution_count": 69,
      "metadata": {
        "id": "OS2KzBoe_inW"
      },
      "outputs": [],
      "source": [
        "class Reservoir:\n",
        "  def __init__(self, av_por, av_perm, location):\n",
        "    self.porosity = av_por\n",
        "    self.permeability = av_perm\n",
        "    self.location = location\n",
        "  \n",
        "  def describe(self):\n",
        "    print(f'Porosity: {self.porosity} and Permeability: {self.permeability} md.')\n",
        "\n",
        "  def situated(self):\n",
        "    print(f'This reservoir is located in {self.location}.')"
      ]
    },
    {
      "cell_type": "code",
      "source": [
        "res_a = Reservoir(0.12, 5, \"RL\")"
      ],
      "metadata": {
        "id": "Is5ipKOIiR1h"
      },
      "execution_count": 42,
      "outputs": []
    },
    {
      "cell_type": "code",
      "source": [
        "res_a.situated()"
      ],
      "metadata": {
        "colab": {
          "base_uri": "https://localhost:8080/"
        },
        "id": "rujU9RQqie4K",
        "outputId": "ff46a189-1ee3-4da2-ebda-19e886444d92"
      },
      "execution_count": 43,
      "outputs": [
        {
          "output_type": "stream",
          "name": "stdout",
          "text": [
            "This reservoir is located in RL.\n"
          ]
        }
      ]
    },
    {
      "cell_type": "code",
      "source": [
        "res_a.describe()"
      ],
      "metadata": {
        "colab": {
          "base_uri": "https://localhost:8080/"
        },
        "id": "MT2CQ7AIno04",
        "outputId": "5e76e262-94f9-45b6-f1d3-1d25f225c12f"
      },
      "execution_count": 44,
      "outputs": [
        {
          "output_type": "stream",
          "name": "stdout",
          "text": [
            "Porosity: 0.12 and Permeability: 5 md.\n"
          ]
        }
      ]
    },
    {
      "cell_type": "code",
      "source": [
        "class tight_Reservoir:\n",
        "  def __init__(self, av_por, av_perm, location, stimul):\n",
        "    self.porosity = av_por\n",
        "    self.permeability = av_perm\n",
        "    self.location = location\n",
        "    self.stimulation = stimul\n",
        "  \n",
        "  def describe(self):\n",
        "    print(f'Porosity: {self.porosity} and Permeability: {self.permeability} md')\n",
        "\n",
        "  def situated(self):\n",
        "    print(f'This reservoir is located in {self.location}.')"
      ],
      "metadata": {
        "id": "UB1AMsMhjatE"
      },
      "execution_count": 67,
      "outputs": []
    },
    {
      "cell_type": "code",
      "source": [
        "res_b = tight_Reservoir(0.110, 10, \"RL\", \"Hydraullic fracturing\")\n",
        "\n",
        "res_b.situated()"
      ],
      "metadata": {
        "colab": {
          "base_uri": "https://localhost:8080/"
        },
        "id": "WD4xmfUdmXML",
        "outputId": "2a569089-78e3-4879-9ca3-015750eb0dda"
      },
      "execution_count": 49,
      "outputs": [
        {
          "output_type": "stream",
          "name": "stdout",
          "text": [
            "This reservoir is located in RL.\n"
          ]
        }
      ]
    },
    {
      "cell_type": "code",
      "source": [
        "res_b.describe()"
      ],
      "metadata": {
        "colab": {
          "base_uri": "https://localhost:8080/"
        },
        "id": "lDcUYnw0n59E",
        "outputId": "9b729ca2-200b-46ab-b3dc-440538dee02c"
      },
      "execution_count": 50,
      "outputs": [
        {
          "output_type": "stream",
          "name": "stdout",
          "text": [
            "Porosity: 0.11 and Permeability: 10 md\n"
          ]
        }
      ]
    },
    {
      "cell_type": "markdown",
      "source": [
        "Reduce length of code with inheritance"
      ],
      "metadata": {
        "id": "4KFnD5cep6Tc"
      }
    },
    {
      "cell_type": "code",
      "source": [
        "# method 1\n",
        "class tight_reservoir(Reservoir):\n",
        "  def __init__(self, av_por, av_perm, location, stimul):\n",
        "    Reservoir.__init__(self,av_por,av_perm,location)\n",
        "\n",
        "    self.stimulation = stimul"
      ],
      "metadata": {
        "id": "mmB1kl9Vo4rw"
      },
      "execution_count": 53,
      "outputs": []
    },
    {
      "cell_type": "code",
      "source": [
        "res_a = tight_Reservoir(0.11,11,\"RL\",\"Hydraullic Fracturing\")\n",
        "res_a.porosity"
      ],
      "metadata": {
        "colab": {
          "base_uri": "https://localhost:8080/"
        },
        "id": "j01N5ui7pZUq",
        "outputId": "37a72f90-1901-46b4-d6cb-3627bafe8a29"
      },
      "execution_count": 52,
      "outputs": [
        {
          "output_type": "execute_result",
          "data": {
            "text/plain": [
              "0.11"
            ]
          },
          "metadata": {},
          "execution_count": 52
        }
      ]
    },
    {
      "cell_type": "code",
      "source": [
        "# method 2\n",
        "class tight_reservoir(Reservoir):\n",
        "  def __init__(self, av_por, av_perm, location, stimul):\n",
        "    super().__init__(av_por, av_perm, location)\n",
        "\n",
        "    self.stimulation = stimul\n",
        "\n",
        "  def stim_method(self):\n",
        "    return f'Stimulation method for this reservoir is {self.stimulation}'"
      ],
      "metadata": {
        "id": "XXyZgQ20pivU"
      },
      "execution_count": 57,
      "outputs": []
    },
    {
      "cell_type": "code",
      "source": [
        "res_c = tight_reservoir(0.12,9,\"RLW\",\"Ggwp\")\n",
        "res_c.stim_method()\n"
      ],
      "metadata": {
        "colab": {
          "base_uri": "https://localhost:8080/",
          "height": 35
        },
        "id": "xKrnY59yqhCB",
        "outputId": "39497bb5-9dd5-4292-8a09-80d48bb8d931"
      },
      "execution_count": 62,
      "outputs": [
        {
          "output_type": "execute_result",
          "data": {
            "application/vnd.google.colaboratory.intrinsic+json": {
              "type": "string"
            },
            "text/plain": [
              "'Stimulation method for this reservoir is Ggwp'"
            ]
          },
          "metadata": {},
          "execution_count": 62
        }
      ]
    },
    {
      "cell_type": "markdown",
      "source": [
        "Multilevel Inheritance"
      ],
      "metadata": {
        "id": "FuNwxrEQSlvp"
      }
    },
    {
      "cell_type": "code",
      "source": [
        "class Reservoir:\n",
        "  def __init__(self, av_por, av_perm, location):\n",
        "    self.porosity = av_por\n",
        "    self.permeability = av_perm\n",
        "    self.location = location\n",
        "\n",
        "  def stim_method(self):\n",
        "    return f'Stimulation method for this reservoir is {self.stimulation}'"
      ],
      "metadata": {
        "id": "Naa2V4puUsKF"
      },
      "execution_count": null,
      "outputs": []
    },
    {
      "cell_type": "code",
      "source": [
        "class Reservoir:\n",
        "  def __init__(self, av_por, av_perm, location):\n",
        "    self.porosity = av_por\n",
        "    self.permeability = av_perm\n",
        "    self.location = location\n",
        "\n",
        "  def describe(self):\n",
        "    print(f'Porosity: {self.porosity} and Permeability: {self.permeability} md')\n",
        "\n",
        "  def situated(self):\n",
        "    print(f'This reservoir is located in {self.location}.')"
      ],
      "metadata": {
        "id": "LPI0RwNiSgNw"
      },
      "execution_count": 72,
      "outputs": []
    },
    {
      "cell_type": "code",
      "source": [
        "class Any_class(Reservoir):\n",
        "  def __init__(self,av_por,av_perm,location, pi, pb):\n",
        "\n",
        "    super().__init__(av_por,av_perm,location)\n",
        "\n",
        "    self.initial = pi\n",
        "    self.bubble = pb\n",
        "\n",
        "  def pressure(self):\n",
        "    return f\"Initial pressure: {self.initial} psi and bubble point pressure: {self.bubble}.\"\n",
        "\n",
        "a = Any_class(0.26,39,\"Ipoh\",5000,4000)\n",
        "\n",
        "a.pressure()"
      ],
      "metadata": {
        "colab": {
          "base_uri": "https://localhost:8080/",
          "height": 35
        },
        "id": "b2n22Mb3S5ll",
        "outputId": "9b1964d8-dbd5-4d0f-eb98-8a210741326d"
      },
      "execution_count": 73,
      "outputs": [
        {
          "output_type": "execute_result",
          "data": {
            "application/vnd.google.colaboratory.intrinsic+json": {
              "type": "string"
            },
            "text/plain": [
              "'Initial pressure: 5000 psi and bubble point pressure: 4000.'"
            ]
          },
          "metadata": {},
          "execution_count": 73
        }
      ]
    },
    {
      "cell_type": "code",
      "source": [
        "a.situated()"
      ],
      "metadata": {
        "colab": {
          "base_uri": "https://localhost:8080/"
        },
        "id": "hnXa6sS6UTJf",
        "outputId": "7f708a12-72b0-4288-edcc-d0a3cc6d1030"
      },
      "execution_count": 74,
      "outputs": [
        {
          "output_type": "stream",
          "name": "stdout",
          "text": [
            "This reservoir is located in Ipoh.\n"
          ]
        }
      ]
    },
    {
      "cell_type": "markdown",
      "source": [
        "Method Resolution Order"
      ],
      "metadata": {
        "id": "xmVUDCbyZu8e"
      }
    },
    {
      "cell_type": "code",
      "source": [
        "class ipoh_res(Any_class):\n",
        "\n",
        "  def __init__(self,av_por,av_perm,location, pi, pb, s_w):\n",
        "    super().__init__(av_por,av_perm,location,pi,pb)\n",
        "\n",
        "    self.water_sat = s_w\n",
        "\n",
        "  def sat(self):\n",
        "    return f'Water saturation is {self.water_sat}'\n",
        "\n",
        "b = ipoh_res(0.14,52,\"WRL\", 500,1400,0.3)\n",
        "\n",
        "b.sat()"
      ],
      "metadata": {
        "colab": {
          "base_uri": "https://localhost:8080/",
          "height": 35
        },
        "id": "JW2gSCiwUk-H",
        "outputId": "ab63d765-e9dd-4463-ceda-50df03f8ea41"
      },
      "execution_count": 75,
      "outputs": [
        {
          "output_type": "execute_result",
          "data": {
            "application/vnd.google.colaboratory.intrinsic+json": {
              "type": "string"
            },
            "text/plain": [
              "'Water saturation is 0.3'"
            ]
          },
          "metadata": {},
          "execution_count": 75
        }
      ]
    },
    {
      "cell_type": "code",
      "source": [
        "b.describe()"
      ],
      "metadata": {
        "colab": {
          "base_uri": "https://localhost:8080/"
        },
        "id": "cfK4IzcFVzKd",
        "outputId": "faff0394-53b8-4244-d484-ebc7424fda04"
      },
      "execution_count": 77,
      "outputs": [
        {
          "output_type": "stream",
          "name": "stdout",
          "text": [
            "Porosity: 0.14 and Permeability: 52 md\n"
          ]
        }
      ]
    },
    {
      "cell_type": "code",
      "source": [
        "help(Any_class)"
      ],
      "metadata": {
        "id": "_8-1s6FgV8j3"
      },
      "execution_count": null,
      "outputs": []
    },
    {
      "cell_type": "code",
      "source": [
        "class ipoh_res(Any_class):\n",
        "\n",
        "  def __init__(self,av_por,av_perm,location, pi, pb, s_w):\n",
        "    super().__init__(av_por,av_perm,location,pi,pb)\n",
        "\n",
        "    self.water_sat = s_w\n",
        "\n",
        "  def sat(self):\n",
        "    return f'Water saturation is {self.water_sat}'\n",
        "  \n",
        "  def describe(self):\n",
        "    return 'Welcome Back!'"
      ],
      "metadata": {
        "id": "96NhnuV4YUtG"
      },
      "execution_count": 79,
      "outputs": []
    },
    {
      "cell_type": "code",
      "source": [
        "d = Reservoir(0.14,52,\"HAHAHAHA\")\n",
        "e = ipoh_res(0.35,74,\"HAHAHHAA\", 5000,4500,0.47)"
      ],
      "metadata": {
        "id": "PIAP8Ku9ZK__"
      },
      "execution_count": 80,
      "outputs": []
    },
    {
      "cell_type": "code",
      "source": [
        "d.describe()\n"
      ],
      "metadata": {
        "colab": {
          "base_uri": "https://localhost:8080/"
        },
        "id": "MJoat9VtZXkX",
        "outputId": "2a36133d-98d9-45d2-bfba-46226503103a"
      },
      "execution_count": 81,
      "outputs": [
        {
          "output_type": "stream",
          "name": "stdout",
          "text": [
            "Porosity: 0.14 and Permeability: 52 md\n"
          ]
        }
      ]
    },
    {
      "cell_type": "code",
      "source": [
        "e.describe()"
      ],
      "metadata": {
        "colab": {
          "base_uri": "https://localhost:8080/",
          "height": 35
        },
        "id": "DllJi7CxZYwX",
        "outputId": "c3dbcf9d-b7c9-437b-9309-1890ca2b48eb"
      },
      "execution_count": 82,
      "outputs": [
        {
          "output_type": "execute_result",
          "data": {
            "application/vnd.google.colaboratory.intrinsic+json": {
              "type": "string"
            },
            "text/plain": [
              "'Welcome Back!'"
            ]
          },
          "metadata": {},
          "execution_count": 82
        }
      ]
    },
    {
      "cell_type": "markdown",
      "source": [
        "Polymorphism"
      ],
      "metadata": {
        "id": "D0WVl_vhbHhE"
      }
    },
    {
      "cell_type": "code",
      "source": [
        "# Get different results using the same methods"
      ],
      "metadata": {
        "id": "J2yErLSBZaUY"
      },
      "execution_count": 83,
      "outputs": []
    },
    {
      "cell_type": "markdown",
      "source": [
        "Isinstance method"
      ],
      "metadata": {
        "id": "j_f83nN2bn_j"
      }
    },
    {
      "cell_type": "code",
      "source": [
        "isinstance(e, ipoh_res)"
      ],
      "metadata": {
        "colab": {
          "base_uri": "https://localhost:8080/"
        },
        "id": "4r_3Mk51bm1A",
        "outputId": "c755f6c6-d24d-487d-c85f-b8eb59fc895a"
      },
      "execution_count": 86,
      "outputs": [
        {
          "output_type": "execute_result",
          "data": {
            "text/plain": [
              "True"
            ]
          },
          "metadata": {},
          "execution_count": 86
        }
      ]
    },
    {
      "cell_type": "markdown",
      "source": [
        "Issubclass method"
      ],
      "metadata": {
        "id": "F0ZGfG2rb2WK"
      }
    },
    {
      "cell_type": "code",
      "source": [
        "issubclass(ipoh_res, Reservoir)"
      ],
      "metadata": {
        "colab": {
          "base_uri": "https://localhost:8080/"
        },
        "id": "yxp6zlRnbthM",
        "outputId": "7e59bdb7-a09c-4ce3-e255-8f0b00f7fe47"
      },
      "execution_count": 87,
      "outputs": [
        {
          "output_type": "execute_result",
          "data": {
            "text/plain": [
              "True"
            ]
          },
          "metadata": {},
          "execution_count": 87
        }
      ]
    },
    {
      "cell_type": "code",
      "source": [
        "issubclass(ipoh_res, Any_class)"
      ],
      "metadata": {
        "colab": {
          "base_uri": "https://localhost:8080/"
        },
        "id": "e3U-oWuWb7G6",
        "outputId": "0fd7cb71-95f7-49f2-d7f0-179a70e42e74"
      },
      "execution_count": 88,
      "outputs": [
        {
          "output_type": "execute_result",
          "data": {
            "text/plain": [
              "True"
            ]
          },
          "metadata": {},
          "execution_count": 88
        }
      ]
    },
    {
      "cell_type": "code",
      "source": [
        "issubclass(Any_class, Reservoir)"
      ],
      "metadata": {
        "colab": {
          "base_uri": "https://localhost:8080/"
        },
        "id": "tRiNpEaMb_d4",
        "outputId": "187017c5-6d54-45d3-fcfe-ee945faf6d25"
      },
      "execution_count": 89,
      "outputs": [
        {
          "output_type": "execute_result",
          "data": {
            "text/plain": [
              "True"
            ]
          },
          "metadata": {},
          "execution_count": 89
        }
      ]
    },
    {
      "cell_type": "code",
      "source": [
        "issubclass(Any_class, ipoh_res)"
      ],
      "metadata": {
        "colab": {
          "base_uri": "https://localhost:8080/"
        },
        "id": "vzSBarY3cC7l",
        "outputId": "6554fc99-0de6-44e6-a4a1-a8476b645347"
      },
      "execution_count": 91,
      "outputs": [
        {
          "output_type": "execute_result",
          "data": {
            "text/plain": [
              "False"
            ]
          },
          "metadata": {},
          "execution_count": 91
        }
      ]
    }
  ]
}