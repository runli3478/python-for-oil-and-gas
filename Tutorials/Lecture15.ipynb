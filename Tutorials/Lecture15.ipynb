{
  "nbformat": 4,
  "nbformat_minor": 0,
  "metadata": {
    "colab": {
      "name": "Lecture15.ipynb",
      "provenance": []
    },
    "kernelspec": {
      "name": "python3",
      "display_name": "Python 3"
    },
    "language_info": {
      "name": "python"
    }
  },
  "cells": [
    {
      "cell_type": "code",
      "execution_count": null,
      "metadata": {
        "colab": {
          "base_uri": "https://localhost:8080/"
        },
        "id": "wmvFE0anUaWY",
        "outputId": "53ade7aa-f021-4bdc-8c3e-8e9acae7f5a8"
      },
      "outputs": [
        {
          "output_type": "execute_result",
          "data": {
            "text/plain": [
              "False"
            ]
          },
          "metadata": {},
          "execution_count": 1
        }
      ],
      "source": [
        "# all function (find at least 1 false)\n",
        "\n",
        "list_1 = [True, True, True, True]\n",
        "\n",
        "list_2 = [True, True, True, False, True, True, False]\n",
        "\n",
        "all(list_2)"
      ]
    },
    {
      "cell_type": "code",
      "source": [
        "# check if all values less than 10\n",
        "\n",
        "tuple_1 = (1,2,3,4,5,6)\n",
        "\n",
        "ToF = [i<10 for i in tuple_1]\n",
        "\n",
        "print(ToF)"
      ],
      "metadata": {
        "colab": {
          "base_uri": "https://localhost:8080/"
        },
        "id": "PAprwoEcU164",
        "outputId": "eaaa323f-7462-47ba-e33e-ceae061f1f6f"
      },
      "execution_count": null,
      "outputs": [
        {
          "output_type": "stream",
          "name": "stdout",
          "text": [
            "[True, True, True, True, True, True]\n"
          ]
        }
      ]
    },
    {
      "cell_type": "code",
      "source": [
        "all(ToF)"
      ],
      "metadata": {
        "colab": {
          "base_uri": "https://localhost:8080/"
        },
        "id": "PG2TIQ00VHz2",
        "outputId": "706c717e-9a6f-4b38-f58f-06dee3a06c74"
      },
      "execution_count": null,
      "outputs": [
        {
          "output_type": "execute_result",
          "data": {
            "text/plain": [
              "True"
            ]
          },
          "metadata": {},
          "execution_count": 3
        }
      ]
    },
    {
      "cell_type": "code",
      "source": [
        "# any function (find at least 1 true)\n",
        "\n",
        "list_3 = [False, False, False, False]\n",
        "\n",
        "list_4 = [False, False, False, False, True]\n",
        "\n",
        "any(list_4)"
      ],
      "metadata": {
        "colab": {
          "base_uri": "https://localhost:8080/"
        },
        "id": "SQ7JEqDCVJtV",
        "outputId": "6a8f550d-79b7-4fd2-8540-e5737d7ac7b1"
      },
      "execution_count": null,
      "outputs": [
        {
          "output_type": "execute_result",
          "data": {
            "text/plain": [
              "True"
            ]
          },
          "metadata": {},
          "execution_count": 4
        }
      ]
    },
    {
      "cell_type": "code",
      "source": [
        "tuple_3 = (2,4,6,8,10,31)\n",
        "\n",
        "even_odd = [i%2 != 0 for i in tuple_3]\n",
        "\n",
        "any(even_odd)"
      ],
      "metadata": {
        "colab": {
          "base_uri": "https://localhost:8080/"
        },
        "id": "KMAqTXyIWOCs",
        "outputId": "bd5029f4-70c7-4b2d-d104-9bc5b10cf245"
      },
      "execution_count": null,
      "outputs": [
        {
          "output_type": "execute_result",
          "data": {
            "text/plain": [
              "True"
            ]
          },
          "metadata": {},
          "execution_count": 5
        }
      ]
    },
    {
      "cell_type": "markdown",
      "source": [
        "Docstring"
      ],
      "metadata": {
        "id": "zVFNzLiZXYrz"
      }
    },
    {
      "cell_type": "code",
      "source": [
        "# Letting others see your own code\n",
        "def por_conv(p):\n",
        "  '''This function takes porosities values in fraction and convert them into percentaeg'''\n",
        "  return p*100\n",
        "por_conv(0.20)\n"
      ],
      "metadata": {
        "colab": {
          "base_uri": "https://localhost:8080/"
        },
        "id": "TXpq-wpDWhtf",
        "outputId": "0231a87e-9979-49ec-b8c2-cbe197b2d58b"
      },
      "execution_count": null,
      "outputs": [
        {
          "output_type": "execute_result",
          "data": {
            "text/plain": [
              "20.0"
            ]
          },
          "metadata": {},
          "execution_count": 8
        }
      ]
    },
    {
      "cell_type": "code",
      "source": [
        "print(por_conv.__doc__)"
      ],
      "metadata": {
        "colab": {
          "base_uri": "https://localhost:8080/"
        },
        "id": "ilTOnCIwXdVy",
        "outputId": "3c83cf9c-f6de-4e75-d741-1e2fa7ebe941"
      },
      "execution_count": null,
      "outputs": [
        {
          "output_type": "stream",
          "name": "stdout",
          "text": [
            "This function takes porosities values in fraction and convert them into percentaeg\n"
          ]
        }
      ]
    },
    {
      "cell_type": "code",
      "source": [
        "print(all.__doc__)"
      ],
      "metadata": {
        "colab": {
          "base_uri": "https://localhost:8080/"
        },
        "id": "1bTvQuAMXlUS",
        "outputId": "c763b900-dcf6-4d1c-99b8-2a7c9b8e5173"
      },
      "execution_count": null,
      "outputs": [
        {
          "output_type": "stream",
          "name": "stdout",
          "text": [
            "Return True if bool(x) is True for all values x in the iterable.\n",
            "\n",
            "If the iterable is empty, return True.\n"
          ]
        }
      ]
    },
    {
      "cell_type": "markdown",
      "source": [
        "Object Oriented Programming(OOP)"
      ],
      "metadata": {
        "id": "PBM1utwzYkS9"
      }
    },
    {
      "cell_type": "code",
      "source": [
        "class Reservoir:\n",
        "  def __init__(self, por, perm, depth):\n",
        "    print(\"This Works!!\")\n",
        "    self.porosity = por\n",
        "    self.permeability = perm\n",
        "    self.depth_of_reservoir = depth\n",
        "  \n",
        "  def describe(self):\n",
        "    return f'Porosity of this reservoir is {self.porosity*100}% and permeability is {self.permeability} md. This reservoir is located at the depth of {self.depth_of_reservoir}'\n"
      ],
      "metadata": {
        "id": "iY1wK-X5YFZW"
      },
      "execution_count": null,
      "outputs": []
    },
    {
      "cell_type": "code",
      "source": [
        "# Objects\n",
        "res_b = Reservoir(0.41, 50, 3200)"
      ],
      "metadata": {
        "colab": {
          "base_uri": "https://localhost:8080/"
        },
        "id": "5gFL-IfBdAmV",
        "outputId": "79ea1c91-9e8d-4894-fcd3-1060431a64b5"
      },
      "execution_count": null,
      "outputs": [
        {
          "output_type": "stream",
          "name": "stdout",
          "text": [
            "This Works!!\n"
          ]
        }
      ]
    },
    {
      "cell_type": "code",
      "source": [
        "res_b.porosity"
      ],
      "metadata": {
        "colab": {
          "base_uri": "https://localhost:8080/"
        },
        "id": "h8ebacn7gSDE",
        "outputId": "0a94c1e8-9397-4443-f69c-57f2e825ab97"
      },
      "execution_count": null,
      "outputs": [
        {
          "output_type": "execute_result",
          "data": {
            "text/plain": [
              "0.41"
            ]
          },
          "metadata": {},
          "execution_count": 20
        }
      ]
    },
    {
      "cell_type": "code",
      "source": [
        "class Well:\n",
        "  def __init__(self, comp_type, zones, depth):\n",
        "    self.completion_type = comp_type\n",
        "    self.no_zone = zones\n",
        "    self.well_depth = depth\n"
      ],
      "metadata": {
        "id": "aNEnTHd4lvCk"
      },
      "execution_count": null,
      "outputs": []
    },
    {
      "cell_type": "code",
      "source": [
        "well_1 = Well(\"cased well\", 3, 2500)"
      ],
      "metadata": {
        "id": "yAhXAjAhsgBt"
      },
      "execution_count": null,
      "outputs": []
    },
    {
      "cell_type": "code",
      "source": [
        "well_1.completion_type"
      ],
      "metadata": {
        "colab": {
          "base_uri": "https://localhost:8080/",
          "height": 35
        },
        "id": "iuECde3KsmjM",
        "outputId": "7c30e66d-9bdd-4c5e-8b32-0caa724a3979"
      },
      "execution_count": null,
      "outputs": [
        {
          "output_type": "execute_result",
          "data": {
            "application/vnd.google.colaboratory.intrinsic+json": {
              "type": "string"
            },
            "text/plain": [
              "'cased well'"
            ]
          },
          "metadata": {},
          "execution_count": 25
        }
      ]
    },
    {
      "cell_type": "code",
      "source": [
        "well_2 = Well(\"open hole\", 1,15500)"
      ],
      "metadata": {
        "id": "pI1keEE6sxkW"
      },
      "execution_count": null,
      "outputs": []
    },
    {
      "cell_type": "code",
      "source": [
        "well_2.no_zone"
      ],
      "metadata": {
        "colab": {
          "base_uri": "https://localhost:8080/"
        },
        "id": "vsmEfBi8s45-",
        "outputId": "4ad0bd4d-cd03-4d4e-e6f6-24d40973ddd3"
      },
      "execution_count": null,
      "outputs": [
        {
          "output_type": "execute_result",
          "data": {
            "text/plain": [
              "1"
            ]
          },
          "metadata": {},
          "execution_count": 27
        }
      ]
    },
    {
      "cell_type": "code",
      "source": [
        "l = [1,2,3,4,5]\n",
        "l.pop()\n",
        "print(l)"
      ],
      "metadata": {
        "colab": {
          "base_uri": "https://localhost:8080/"
        },
        "id": "Ecd4HT0ZtCFl",
        "outputId": "b0c49f52-ed3b-49a1-cd95-f238978ded13"
      },
      "execution_count": null,
      "outputs": [
        {
          "output_type": "stream",
          "name": "stdout",
          "text": [
            "[1, 2, 3, 4]\n"
          ]
        }
      ]
    },
    {
      "cell_type": "code",
      "source": [
        "l.append(\"oil\")\n",
        "print(l)"
      ],
      "metadata": {
        "colab": {
          "base_uri": "https://localhost:8080/"
        },
        "id": "WygwfU_gchLs",
        "outputId": "63911b7e-1e2b-4035-ffda-0e45eeda481d"
      },
      "execution_count": null,
      "outputs": [
        {
          "output_type": "stream",
          "name": "stdout",
          "text": [
            "[1, 2, 3, 4, 'oil']\n"
          ]
        }
      ]
    },
    {
      "cell_type": "code",
      "source": [
        "class Reservoir:\n",
        "  def __init__(self, por, perm, depth):\n",
        "    \n",
        "    self.porosity = por\n",
        "    self.permeability = perm\n",
        "    self.depth_of_reservoir = depth"
      ],
      "metadata": {
        "id": "p1UMFzJ8tKnN"
      },
      "execution_count": null,
      "outputs": []
    },
    {
      "cell_type": "code",
      "source": [
        "res_a = Reservoir(0.41,40,5200)"
      ],
      "metadata": {
        "id": "qG44p9QVtQ9L"
      },
      "execution_count": null,
      "outputs": []
    },
    {
      "cell_type": "code",
      "source": [
        "# create method for class\n",
        "class Reservoir_2:\n",
        "  def __init__(self, por, perm, depth):\n",
        "    \n",
        "    self.porosity = por\n",
        "    self.permeability = perm\n",
        "    self.depth_of_reservoir = depth\n",
        "  \n",
        "  def describe(self):\n",
        "    return f\"Porosity of this reservoir is {self.porosity*100}% and permeability is {self.permeability} md. This reservoir is located at the {self.depth_of_reservoir}ft.\""
      ],
      "metadata": {
        "id": "5DrPPwQetUfB"
      },
      "execution_count": null,
      "outputs": []
    },
    {
      "cell_type": "code",
      "source": [
        "res_b = Reservoir_2(0.1, 50, 3200)"
      ],
      "metadata": {
        "id": "lis0sfPet-lt"
      },
      "execution_count": null,
      "outputs": []
    },
    {
      "cell_type": "code",
      "source": [
        "res_b.porosity"
      ],
      "metadata": {
        "colab": {
          "base_uri": "https://localhost:8080/"
        },
        "id": "Dz7WkCYFuLFc",
        "outputId": "0033da86-ceb6-4457-ee3c-d0c2c8060edf"
      },
      "execution_count": null,
      "outputs": [
        {
          "output_type": "execute_result",
          "data": {
            "text/plain": [
              "0.1"
            ]
          },
          "metadata": {},
          "execution_count": 35
        }
      ]
    },
    {
      "cell_type": "code",
      "source": [
        "res_b.describe()"
      ],
      "metadata": {
        "colab": {
          "base_uri": "https://localhost:8080/",
          "height": 35
        },
        "id": "XjbnJHRjuN5l",
        "outputId": "add462a8-7e71-4cf3-b256-6d372dba212e"
      },
      "execution_count": null,
      "outputs": [
        {
          "output_type": "execute_result",
          "data": {
            "application/vnd.google.colaboratory.intrinsic+json": {
              "type": "string"
            },
            "text/plain": [
              "'Porosity of this reservoir is 10.0% and permeability is 50 md. This reservoir is located at the 3200ft.'"
            ]
          },
          "metadata": {},
          "execution_count": 37
        }
      ]
    },
    {
      "cell_type": "code",
      "source": [
        "res_c = Reservoir_2(0.2,89,2500)\n",
        "res_c.describe()"
      ],
      "metadata": {
        "colab": {
          "base_uri": "https://localhost:8080/",
          "height": 35
        },
        "id": "8cl0AuxFubVf",
        "outputId": "22d4e3b5-2e52-4878-f164-e26cf2ce794c"
      },
      "execution_count": null,
      "outputs": [
        {
          "output_type": "execute_result",
          "data": {
            "application/vnd.google.colaboratory.intrinsic+json": {
              "type": "string"
            },
            "text/plain": [
              "'Porosity of this reservoir is 20.0% and permeability is 89 md. This reservoir is located at the 2500ft.'"
            ]
          },
          "metadata": {},
          "execution_count": 38
        }
      ]
    },
    {
      "cell_type": "code",
      "source": [
        "Reservoir_2.describe(res_c)"
      ],
      "metadata": {
        "colab": {
          "base_uri": "https://localhost:8080/",
          "height": 35
        },
        "id": "es0aMWmlu1Dx",
        "outputId": "00724e71-60ca-484b-bb94-ea6e8adaaba7"
      },
      "execution_count": null,
      "outputs": [
        {
          "output_type": "execute_result",
          "data": {
            "application/vnd.google.colaboratory.intrinsic+json": {
              "type": "string"
            },
            "text/plain": [
              "'Porosity of this reservoir is 20.0% and permeability is 89 md. This reservoir is located at the 2500ft.'"
            ]
          },
          "metadata": {},
          "execution_count": 39
        }
      ]
    },
    {
      "cell_type": "code",
      "source": [
        "class Scores:\n",
        "  def __init__(self, res, drill, prod):\n",
        "    self.reservoir = res\n",
        "    self.drilling = drill\n",
        "    self.production = prod\n",
        "  def avg(self):\n",
        "    return (self.reservoir + self.drilling + self.production)/3\n",
        "  \n",
        "  def maximum(self):\n",
        "    return max(self.reservoir, self.drilling, self.production)"
      ],
      "metadata": {
        "id": "pvmE363lu6l-"
      },
      "execution_count": null,
      "outputs": []
    },
    {
      "cell_type": "code",
      "source": [
        "RL = Scores(75,100,100)\n",
        "\n",
        "RL.avg()"
      ],
      "metadata": {
        "colab": {
          "base_uri": "https://localhost:8080/"
        },
        "id": "mS3x0f_Swh5f",
        "outputId": "3dfa84f7-1bc9-4f9a-d989-34255251f9e2"
      },
      "execution_count": null,
      "outputs": [
        {
          "output_type": "execute_result",
          "data": {
            "text/plain": [
              "91.66666666666667"
            ]
          },
          "metadata": {},
          "execution_count": 43
        }
      ]
    },
    {
      "cell_type": "markdown",
      "source": [
        "Class Variable"
      ],
      "metadata": {
        "id": "Dj33QRPT7iBP"
      }
    },
    {
      "cell_type": "code",
      "source": [
        "class Circle:\n",
        "\n",
        "  def __init__(self,pi,r):\n",
        "\n",
        "    self.pi = pi\n",
        "    self.radius = r\n",
        "\n",
        "  def area(self):\n",
        "    return self.pi*(self.radius)**2\n",
        "  \n",
        "  def circum(self):\n",
        "    return 2*self.pi*self.radius\n",
        "  "
      ],
      "metadata": {
        "id": "seh4Y8A87kJL"
      },
      "execution_count": 3,
      "outputs": []
    },
    {
      "cell_type": "code",
      "source": [
        "c_1 = Circle(3.14, 2)\n",
        "c_2 = Circle(3.14, 3)"
      ],
      "metadata": {
        "id": "d6T-VhoswsWE"
      },
      "execution_count": 5,
      "outputs": []
    },
    {
      "cell_type": "code",
      "source": [
        "c_1.area()\n"
      ],
      "metadata": {
        "colab": {
          "base_uri": "https://localhost:8080/"
        },
        "id": "-5BDqERT79tq",
        "outputId": "3b5fdb8f-7ac2-4628-a67c-c2335b34227f"
      },
      "execution_count": 8,
      "outputs": [
        {
          "output_type": "execute_result",
          "data": {
            "text/plain": [
              "12.56"
            ]
          },
          "metadata": {},
          "execution_count": 8
        }
      ]
    },
    {
      "cell_type": "code",
      "source": [
        "c_2.circum()"
      ],
      "metadata": {
        "colab": {
          "base_uri": "https://localhost:8080/"
        },
        "id": "xLr-AUOT8JBD",
        "outputId": "bf2f0f7b-bc5a-4e5b-e871-5a19ef59a29d"
      },
      "execution_count": 9,
      "outputs": [
        {
          "output_type": "execute_result",
          "data": {
            "text/plain": [
              "18.84"
            ]
          },
          "metadata": {},
          "execution_count": 9
        }
      ]
    },
    {
      "cell_type": "code",
      "source": [
        "# Class Variable\n",
        "\n",
        "class Circle_2:\n",
        "\n",
        "  pi = 3.14\n",
        "\n",
        "  def __init__(self,r):\n",
        "\n",
        "    self.radius = r\n",
        "\n",
        "  def area(self):\n",
        "    return Circle_2.pi*(self.radius)**2\n",
        "  \n",
        "  def circum(self):\n",
        "    return 2*Circle_2.pi*self.radius"
      ],
      "metadata": {
        "id": "mhEBQ9F48UX4"
      },
      "execution_count": 14,
      "outputs": []
    },
    {
      "cell_type": "code",
      "source": [
        "c_3 = Circle_2(2)\n",
        "c_3.area()"
      ],
      "metadata": {
        "colab": {
          "base_uri": "https://localhost:8080/"
        },
        "id": "TxVz2qUe8vXg",
        "outputId": "f8fa1c40-c969-4572-d5ad-a670004f6b02"
      },
      "execution_count": 15,
      "outputs": [
        {
          "output_type": "execute_result",
          "data": {
            "text/plain": [
              "12.56"
            ]
          },
          "metadata": {},
          "execution_count": 15
        }
      ]
    },
    {
      "cell_type": "code",
      "source": [
        "c_4 = Circle_2(3)\n",
        "c_4.circum()"
      ],
      "metadata": {
        "colab": {
          "base_uri": "https://localhost:8080/"
        },
        "id": "B5PML8qr8xV6",
        "outputId": "603d51eb-cab6-4d2d-b66e-14d43f54ad63"
      },
      "execution_count": 17,
      "outputs": [
        {
          "output_type": "execute_result",
          "data": {
            "text/plain": [
              "18.84"
            ]
          },
          "metadata": {},
          "execution_count": 17
        }
      ]
    },
    {
      "cell_type": "code",
      "source": [
        "class Well:\n",
        "\n",
        "  mw = 12\n",
        "\n",
        "  def __init__(self, comp_type, zones, depth):\n",
        "    self.type_of_comp = comp_type\n",
        "    self.no_of_zones = zones\n",
        "    self.depth = depth\n",
        "  \n",
        "  def pres_calc(self):\n",
        "    return 0.052*Well.mw*(self.depth)"
      ],
      "metadata": {
        "id": "Yxy3I4J_9I3r"
      },
      "execution_count": 21,
      "outputs": []
    },
    {
      "cell_type": "code",
      "source": [
        "well_1 = Well('Open', 1, 2500)\n",
        "\n",
        "well_1.pres_calc()"
      ],
      "metadata": {
        "colab": {
          "base_uri": "https://localhost:8080/"
        },
        "id": "ll0mG2xi93Vj",
        "outputId": "42e32a89-c8c7-487d-c017-2c1b54b36f34"
      },
      "execution_count": 23,
      "outputs": [
        {
          "output_type": "execute_result",
          "data": {
            "text/plain": [
              "1560.0"
            ]
          },
          "metadata": {},
          "execution_count": 23
        }
      ]
    },
    {
      "cell_type": "code",
      "source": [
        "well_1.__dict__"
      ],
      "metadata": {
        "colab": {
          "base_uri": "https://localhost:8080/"
        },
        "id": "7bxOB6aL9_Hh",
        "outputId": "6249a3cc-dc03-4a2e-af01-9893c3244cc9"
      },
      "execution_count": 24,
      "outputs": [
        {
          "output_type": "execute_result",
          "data": {
            "text/plain": [
              "{'depth': 2500, 'no_of_zones': 1, 'type_of_comp': 'Open'}"
            ]
          },
          "metadata": {},
          "execution_count": 24
        }
      ]
    }
  ]
}