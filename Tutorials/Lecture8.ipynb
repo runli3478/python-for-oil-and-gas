{
  "nbformat": 4,
  "nbformat_minor": 0,
  "metadata": {
    "colab": {
      "name": "Lecture8.ipynb",
      "provenance": []
    },
    "kernelspec": {
      "name": "python3",
      "display_name": "Python 3"
    },
    "language_info": {
      "name": "python"
    }
  },
  "cells": [
    {
      "cell_type": "markdown",
      "source": [
        "Count method"
      ],
      "metadata": {
        "id": "-6FG6A6zAAD9"
      }
    },
    {
      "cell_type": "code",
      "execution_count": 7,
      "metadata": {
        "colab": {
          "base_uri": "https://localhost:8080/"
        },
        "id": "ziB3YPur_vbh",
        "outputId": "11350335-1c9a-488e-963a-5118a0e6e605"
      },
      "outputs": [
        {
          "output_type": "execute_result",
          "data": {
            "text/plain": [
              "0"
            ]
          },
          "metadata": {},
          "execution_count": 7
        }
      ],
      "source": [
        "num = [0.2,0.3,0.25,0.4,0.5,0.15,0.7]\n",
        "num.count(\"0.25\")"
      ]
    },
    {
      "cell_type": "markdown",
      "source": [
        "Sort method"
      ],
      "metadata": {
        "id": "ZYuocVSAAf8W"
      }
    },
    {
      "cell_type": "code",
      "source": [
        "num.sort()"
      ],
      "metadata": {
        "id": "MP_ELraTAddT"
      },
      "execution_count": 8,
      "outputs": []
    },
    {
      "cell_type": "code",
      "source": [
        "print(num)"
      ],
      "metadata": {
        "colab": {
          "base_uri": "https://localhost:8080/"
        },
        "id": "JjDMFz4yApvj",
        "outputId": "7e93edd5-7ad2-45c2-f6a0-c243c99b70de"
      },
      "execution_count": 9,
      "outputs": [
        {
          "output_type": "stream",
          "name": "stdout",
          "text": [
            "[0.15, 0.2, 0.25, 0.3, 0.4, 0.5, 0.7]\n"
          ]
        }
      ]
    },
    {
      "cell_type": "code",
      "source": [
        "sorted(num)"
      ],
      "metadata": {
        "colab": {
          "base_uri": "https://localhost:8080/"
        },
        "id": "JwaUkF5VAsqv",
        "outputId": "caf84367-3c46-48a1-f306-0a77b6ffa60d"
      },
      "execution_count": 10,
      "outputs": [
        {
          "output_type": "execute_result",
          "data": {
            "text/plain": [
              "[0.15, 0.2, 0.25, 0.3, 0.4, 0.5, 0.7]"
            ]
          },
          "metadata": {},
          "execution_count": 10
        }
      ]
    },
    {
      "cell_type": "markdown",
      "source": [
        "Copy method"
      ],
      "metadata": {
        "id": "FOhY0lUNBS8B"
      }
    },
    {
      "cell_type": "code",
      "source": [
        "abc = [1,2,\"python\", \"WRL\"]\n",
        "\n",
        "abc_new = abc.copy()\n",
        "print(abc_new)"
      ],
      "metadata": {
        "colab": {
          "base_uri": "https://localhost:8080/"
        },
        "id": "MipLFenQBMvN",
        "outputId": "6f764620-9e55-4171-c61f-2f172ef5a16e"
      },
      "execution_count": 11,
      "outputs": [
        {
          "output_type": "stream",
          "name": "stdout",
          "text": [
            "[1, 2, 'python', 'WRL']\n"
          ]
        }
      ]
    },
    {
      "cell_type": "markdown",
      "source": [
        "Split method"
      ],
      "metadata": {
        "id": "oFl319i3BjeV"
      }
    },
    {
      "cell_type": "code",
      "source": [
        "full_name = input(\"Please enter your first name and last name: \\n\").split()"
      ],
      "metadata": {
        "colab": {
          "base_uri": "https://localhost:8080/"
        },
        "id": "w_6xoVDWBd9O",
        "outputId": "ec80740e-d516-43af-9535-b1d8dcfd9908"
      },
      "execution_count": 12,
      "outputs": [
        {
          "name": "stdout",
          "output_type": "stream",
          "text": [
            "Please enter your first name and last name: \n",
            "wr l\n"
          ]
        }
      ]
    },
    {
      "cell_type": "code",
      "source": [
        "print(full_name)"
      ],
      "metadata": {
        "colab": {
          "base_uri": "https://localhost:8080/"
        },
        "id": "_GOxExxLCAJs",
        "outputId": "bcb9fde7-1fcc-4770-b55a-abc1f51b020d"
      },
      "execution_count": 13,
      "outputs": [
        {
          "output_type": "stream",
          "name": "stdout",
          "text": [
            "['wr', 'l']\n"
          ]
        }
      ]
    },
    {
      "cell_type": "markdown",
      "source": [
        "Join method"
      ],
      "metadata": {
        "id": "xA_JggtECG2U"
      }
    },
    {
      "cell_type": "code",
      "source": [
        "(\"\").join(full_name)"
      ],
      "metadata": {
        "colab": {
          "base_uri": "https://localhost:8080/",
          "height": 35
        },
        "id": "zo8CYOJWCDG6",
        "outputId": "d9365789-aede-4e91-fc9f-de45013cba3b"
      },
      "execution_count": 15,
      "outputs": [
        {
          "output_type": "execute_result",
          "data": {
            "application/vnd.google.colaboratory.intrinsic+json": {
              "type": "string"
            },
            "text/plain": [
              "'wrl'"
            ]
          },
          "metadata": {},
          "execution_count": 15
        }
      ]
    },
    {
      "cell_type": "code",
      "source": [
        "(\" \").join(full_name)"
      ],
      "metadata": {
        "colab": {
          "base_uri": "https://localhost:8080/",
          "height": 35
        },
        "id": "phP5kzRVCOln",
        "outputId": "2825e87c-d516-4dd5-ed52-65ec6f444d66"
      },
      "execution_count": 16,
      "outputs": [
        {
          "output_type": "execute_result",
          "data": {
            "application/vnd.google.colaboratory.intrinsic+json": {
              "type": "string"
            },
            "text/plain": [
              "'wr l'"
            ]
          },
          "metadata": {},
          "execution_count": 16
        }
      ]
    },
    {
      "cell_type": "markdown",
      "source": [
        "Loop in list"
      ],
      "metadata": {
        "id": "66jA8DiEEhMr"
      }
    },
    {
      "cell_type": "code",
      "source": [
        "num = [0.2,0.3,0.25,0.5,0.15,0.17]\n",
        "\n",
        "len(num)"
      ],
      "metadata": {
        "colab": {
          "base_uri": "https://localhost:8080/"
        },
        "id": "htLMm2krEjhm",
        "outputId": "8e5868ea-e4f5-4a7d-e930-17ffce4c1a15"
      },
      "execution_count": 17,
      "outputs": [
        {
          "output_type": "execute_result",
          "data": {
            "text/plain": [
              "6"
            ]
          },
          "metadata": {},
          "execution_count": 17
        }
      ]
    },
    {
      "cell_type": "code",
      "source": [
        "i=0\n",
        "\n",
        "while i < len(num):\n",
        "  print(num[i])\n",
        "  i += 1"
      ],
      "metadata": {
        "colab": {
          "base_uri": "https://localhost:8080/"
        },
        "id": "7glYfwHeE7IV",
        "outputId": "00d2454c-da00-4d80-c378-5770797093af"
      },
      "execution_count": 21,
      "outputs": [
        {
          "output_type": "stream",
          "name": "stdout",
          "text": [
            "0.2\n",
            "0.3\n",
            "0.25\n",
            "0.5\n",
            "0.15\n",
            "0.17\n"
          ]
        }
      ]
    },
    {
      "cell_type": "code",
      "source": [
        "num = [0.2,0.3,0.25,0.5,0.15,0.17]\n",
        "\n",
        "for j in num:\n",
        "  print(j)"
      ],
      "metadata": {
        "colab": {
          "base_uri": "https://localhost:8080/"
        },
        "id": "L3fQTTxEFRfj",
        "outputId": "7df9dfd2-42f2-4c56-f0fa-af73c8f8ed78"
      },
      "execution_count": 22,
      "outputs": [
        {
          "output_type": "stream",
          "name": "stdout",
          "text": [
            "0.2\n",
            "0.3\n",
            "0.25\n",
            "0.5\n",
            "0.15\n",
            "0.17\n"
          ]
        }
      ]
    },
    {
      "cell_type": "markdown",
      "source": [
        "List in list"
      ],
      "metadata": {
        "id": "MXqZL2WhF-EV"
      }
    },
    {
      "cell_type": "code",
      "source": [
        "res_1 = [0.2,25,40]\n",
        "res_2 = [0.15,30,55]\n",
        "res_3 = [0.30,35,60]\n",
        "\n",
        "info = [[0.2,25,40],[0.15,30,55],[0.30,35,60]]\n",
        "len(info)"
      ],
      "metadata": {
        "colab": {
          "base_uri": "https://localhost:8080/"
        },
        "id": "X1wo7vfjFu-B",
        "outputId": "04b2e576-c116-4869-ea39-0a4da466efe2"
      },
      "execution_count": 23,
      "outputs": [
        {
          "output_type": "execute_result",
          "data": {
            "text/plain": [
              "3"
            ]
          },
          "metadata": {},
          "execution_count": 23
        }
      ]
    },
    {
      "cell_type": "code",
      "source": [
        "info[0]"
      ],
      "metadata": {
        "colab": {
          "base_uri": "https://localhost:8080/"
        },
        "id": "3JMWVcgzGSNt",
        "outputId": "abced40a-d044-43c7-bc4f-4a3d6e80a622"
      },
      "execution_count": 24,
      "outputs": [
        {
          "output_type": "execute_result",
          "data": {
            "text/plain": [
              "[0.2, 25, 40]"
            ]
          },
          "metadata": {},
          "execution_count": 24
        }
      ]
    },
    {
      "cell_type": "code",
      "source": [
        "for i in info:\n",
        "  for j in i:\n",
        "    print(j)"
      ],
      "metadata": {
        "colab": {
          "base_uri": "https://localhost:8080/"
        },
        "id": "ZC81YzBGGVRI",
        "outputId": "e627ae40-4ed8-469e-d09a-719d7a802469"
      },
      "execution_count": 28,
      "outputs": [
        {
          "output_type": "stream",
          "name": "stdout",
          "text": [
            "0.2\n",
            "25\n",
            "40\n",
            "0.15\n",
            "30\n",
            "55\n",
            "0.3\n",
            "35\n",
            "60\n"
          ]
        }
      ]
    },
    {
      "cell_type": "markdown",
      "source": [
        "Generate long list"
      ],
      "metadata": {
        "id": "5nz7t9HXdm1l"
      }
    },
    {
      "cell_type": "code",
      "source": [
        "ab = list(range(1,100))\n",
        "print(ab)"
      ],
      "metadata": {
        "colab": {
          "base_uri": "https://localhost:8080/"
        },
        "id": "tMUdhV5xdJoP",
        "outputId": "b7d223fb-dc68-4e9b-fb1d-8e58aea853ea"
      },
      "execution_count": 30,
      "outputs": [
        {
          "output_type": "stream",
          "name": "stdout",
          "text": [
            "[1, 2, 3, 4, 5, 6, 7, 8, 9, 10, 11, 12, 13, 14, 15, 16, 17, 18, 19, 20, 21, 22, 23, 24, 25, 26, 27, 28, 29, 30, 31, 32, 33, 34, 35, 36, 37, 38, 39, 40, 41, 42, 43, 44, 45, 46, 47, 48, 49, 50, 51, 52, 53, 54, 55, 56, 57, 58, 59, 60, 61, 62, 63, 64, 65, 66, 67, 68, 69, 70, 71, 72, 73, 74, 75, 76, 77, 78, 79, 80, 81, 82, 83, 84, 85, 86, 87, 88, 89, 90, 91, 92, 93, 94, 95, 96, 97, 98, 99]\n"
          ]
        }
      ]
    },
    {
      "cell_type": "code",
      "source": [
        "even = list(range(2,14,2))\n",
        "print(even)"
      ],
      "metadata": {
        "colab": {
          "base_uri": "https://localhost:8080/"
        },
        "id": "wCAOg8tHdxGF",
        "outputId": "0155f4e5-38a3-4bbd-9025-f5bcd1358ee2"
      },
      "execution_count": 32,
      "outputs": [
        {
          "output_type": "stream",
          "name": "stdout",
          "text": [
            "[2, 4, 6, 8, 10, 12]\n"
          ]
        }
      ]
    },
    {
      "cell_type": "markdown",
      "source": [
        "Passing list in a function"
      ],
      "metadata": {
        "id": "yZs-6cd8eEaB"
      }
    },
    {
      "cell_type": "code",
      "source": [
        "num = [12,1,45,23,54,20]\n",
        "def negative(a):\n",
        "  neg_items = []\n",
        "  for i in a:\n",
        "    neg_items.append(-i)\n",
        "  return neg_items\n",
        "negative(num)"
      ],
      "metadata": {
        "colab": {
          "base_uri": "https://localhost:8080/"
        },
        "id": "1QSCFMRHd7HJ",
        "outputId": "1fb894c0-905d-4c38-edf4-5468be1487d4"
      },
      "execution_count": 33,
      "outputs": [
        {
          "output_type": "execute_result",
          "data": {
            "text/plain": [
              "[-12, -1, -45, -23, -54, -20]"
            ]
          },
          "metadata": {},
          "execution_count": 33
        }
      ]
    },
    {
      "cell_type": "code",
      "source": [
        "num2 = [12,4,3]\n",
        "negative(num2)"
      ],
      "metadata": {
        "colab": {
          "base_uri": "https://localhost:8080/"
        },
        "id": "BNBfMHcFesY3",
        "outputId": "86027095-f698-41c7-800b-71d7e49edcb4"
      },
      "execution_count": 34,
      "outputs": [
        {
          "output_type": "execute_result",
          "data": {
            "text/plain": [
              "[-12, -4, -3]"
            ]
          },
          "metadata": {},
          "execution_count": 34
        }
      ]
    },
    {
      "cell_type": "code",
      "source": [
        "# Output showing even or odd\n",
        "perm = [10,14,20,25,33,35,40,45]\n",
        "\n",
        "def even_odd(b):\n",
        "  evo = []\n",
        "  for i in b:\n",
        "    if i%2 == 0:\n",
        "      evo.append(\"Even\")\n",
        "    else:\n",
        "      evo.append(\"Odd\")\n",
        "  return evo\n",
        "even_odd(perm)"
      ],
      "metadata": {
        "colab": {
          "base_uri": "https://localhost:8080/"
        },
        "id": "afqgEhSXe1Ux",
        "outputId": "0e5b5dda-4b77-4137-8979-5feddf0702d7"
      },
      "execution_count": 36,
      "outputs": [
        {
          "output_type": "execute_result",
          "data": {
            "text/plain": [
              "['Even', 'Even', 'Even', 'Odd', 'Odd', 'Odd', 'Even', 'Odd']"
            ]
          },
          "metadata": {},
          "execution_count": 36
        }
      ]
    },
    {
      "cell_type": "code",
      "source": [
        "perm_2 = [12,45,40]\n",
        "\n",
        "ev_od = []\n",
        "\n",
        "for i in perm_2:\n",
        "  if i%2 == 0:\n",
        "    ev_od.append(\"Even\")\n",
        "  else:\n",
        "    ev_od.append(\"Odd\")\n",
        "print(ev_od)"
      ],
      "metadata": {
        "colab": {
          "base_uri": "https://localhost:8080/"
        },
        "id": "5-5CfczkhNN1",
        "outputId": "0e9b0527-b625-47e1-b458-d47ea51423a8"
      },
      "execution_count": 37,
      "outputs": [
        {
          "output_type": "stream",
          "name": "stdout",
          "text": [
            "['Even', 'Odd', 'Even']\n"
          ]
        }
      ]
    },
    {
      "cell_type": "markdown",
      "source": [
        "Exercise"
      ],
      "metadata": {
        "id": "DSoANDdFiBSO"
      }
    },
    {
      "cell_type": "code",
      "source": [
        "por = [10,12,16,24,31,27]\n",
        "\n",
        "def fraction(a):\n",
        "  por_frac = []\n",
        "  for i in a:\n",
        "    por_frac.append(i/100)\n",
        "  return por_frac\n",
        "fraction(por)"
      ],
      "metadata": {
        "colab": {
          "base_uri": "https://localhost:8080/"
        },
        "id": "r6yE2KL2h0Nf",
        "outputId": "fdd77515-09a3-4b40-fa1e-6c0798d1efdb"
      },
      "execution_count": 38,
      "outputs": [
        {
          "output_type": "execute_result",
          "data": {
            "text/plain": [
              "[0.1, 0.12, 0.16, 0.24, 0.31, 0.27]"
            ]
          },
          "metadata": {},
          "execution_count": 38
        }
      ]
    },
    {
      "cell_type": "markdown",
      "source": [
        "Assignment"
      ],
      "metadata": {
        "id": "uI-LLAFoimSE"
      }
    },
    {
      "cell_type": "code",
      "source": [
        "s_w = list(range(5,35,5))\n",
        "\n",
        "def sg(a):\n",
        "  s_o = []\n",
        "  for i in a:\n",
        "    s_o.append(100-i-10)\n",
        "  return s_o\n",
        "sg(s_w)"
      ],
      "metadata": {
        "colab": {
          "base_uri": "https://localhost:8080/"
        },
        "id": "u5OtL6rNiYGo",
        "outputId": "74923743-ad81-4629-dee7-1acd530c07a4"
      },
      "execution_count": 42,
      "outputs": [
        {
          "output_type": "execute_result",
          "data": {
            "text/plain": [
              "[85, 80, 75, 70, 65, 60]"
            ]
          },
          "metadata": {},
          "execution_count": 42
        }
      ]
    },
    {
      "cell_type": "code",
      "source": [
        "mud_wt = [9.4,10.5,14.1,13.2,12.1,11.8,12.56]\n",
        "\n",
        "def filter(k):\n",
        "  more = []\n",
        "  less = []\n",
        "  for i in k:\n",
        "    if i > 12:\n",
        "      more.append(i)\n",
        "    else:\n",
        "      less.append(i)\n",
        "  return [less, more]\n",
        "filter(mud_wt)"
      ],
      "metadata": {
        "colab": {
          "base_uri": "https://localhost:8080/"
        },
        "id": "raoz5qKVj6xn",
        "outputId": "aad1b698-e11b-44e6-b235-01996aadde52"
      },
      "execution_count": 49,
      "outputs": [
        {
          "output_type": "execute_result",
          "data": {
            "text/plain": [
              "[[9.4, 10.5, 11.8], [14.1, 13.2, 12.1, 12.56]]"
            ]
          },
          "metadata": {},
          "execution_count": 49
        }
      ]
    }
  ]
}