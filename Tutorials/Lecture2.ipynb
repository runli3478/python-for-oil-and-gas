{
  "nbformat": 4,
  "nbformat_minor": 0,
  "metadata": {
    "colab": {
      "name": "Lecture2.ipynb",
      "provenance": []
    },
    "kernelspec": {
      "name": "python3",
      "display_name": "Python 3"
    },
    "language_info": {
      "name": "python"
    }
  },
  "cells": [
    {
      "cell_type": "markdown",
      "source": [
        "Variables"
      ],
      "metadata": {
        "id": "9hCoYhYs9mc3"
      }
    },
    {
      "cell_type": "code",
      "execution_count": 1,
      "metadata": {
        "colab": {
          "base_uri": "https://localhost:8080/"
        },
        "id": "jWnHOxzA9OwN",
        "outputId": "bf0e34b4-81a5-4354-b299-132a0e628818"
      },
      "outputs": [
        {
          "output_type": "stream",
          "name": "stdout",
          "text": [
            "15\n"
          ]
        }
      ],
      "source": [
        "a=5\n",
        "b=10\n",
        "print(a+b)"
      ]
    },
    {
      "cell_type": "markdown",
      "source": [
        "String"
      ],
      "metadata": {
        "id": "2ZWa3n4H95Kv"
      }
    },
    {
      "cell_type": "code",
      "source": [
        "first = 'Petroleum'\n",
        "mid = \"Engineer\"\n",
        "last = \"Wong\"\n",
        "print(first + \" \" + mid + \" \" + last + str(b))"
      ],
      "metadata": {
        "colab": {
          "base_uri": "https://localhost:8080/"
        },
        "id": "9kUtq0Pb9siB",
        "outputId": "c151a1c9-516c-4d6b-9b73-3895fc110bba"
      },
      "execution_count": 5,
      "outputs": [
        {
          "output_type": "stream",
          "name": "stdout",
          "text": [
            "Petroleum Engineer Wong10\n"
          ]
        }
      ]
    },
    {
      "cell_type": "code",
      "source": [
        "field = \"Avatar Basin\"\n",
        "pressure = 5000\n",
        "\n",
        "print(\"Reservoir pressure is {} psi\".format(pressure))"
      ],
      "metadata": {
        "colab": {
          "base_uri": "https://localhost:8080/"
        },
        "id": "dcvLSzpI-xcp",
        "outputId": "ec5f4d51-570b-4207-9ab6-759588d5a6d6"
      },
      "execution_count": 6,
      "outputs": [
        {
          "output_type": "stream",
          "name": "stdout",
          "text": [
            "Reservoir pressure is 5000 psi\n"
          ]
        }
      ]
    },
    {
      "cell_type": "code",
      "source": [
        "print(f'Reservoir pressure is {pressure} psi')"
      ],
      "metadata": {
        "colab": {
          "base_uri": "https://localhost:8080/"
        },
        "id": "IMqevQil_Lfj",
        "outputId": "7d813546-da41-4756-b95a-0d16bfee94f3"
      },
      "execution_count": 7,
      "outputs": [
        {
          "output_type": "stream",
          "name": "stdout",
          "text": [
            "Reservoir pressure is 5000 psi\n"
          ]
        }
      ]
    },
    {
      "cell_type": "code",
      "source": [
        "print('Reservoir pressure in {} is {} psi'.format(field, pressure))"
      ],
      "metadata": {
        "colab": {
          "base_uri": "https://localhost:8080/"
        },
        "id": "rI1H2VN4_T1O",
        "outputId": "b9607562-2711-4848-ba1a-a5ba1973a30d"
      },
      "execution_count": 9,
      "outputs": [
        {
          "output_type": "stream",
          "name": "stdout",
          "text": [
            "Reservoir pressure in Avatar Basin is 5000 psi\n"
          ]
        }
      ]
    },
    {
      "cell_type": "code",
      "source": [
        "print(f'Reservoir pressure in {field} is {pressure+50} psi')"
      ],
      "metadata": {
        "colab": {
          "base_uri": "https://localhost:8080/"
        },
        "id": "QpALcyLU_ok1",
        "outputId": "d79f3ed0-a6de-4f0b-830f-3665984299ac"
      },
      "execution_count": 11,
      "outputs": [
        {
          "output_type": "stream",
          "name": "stdout",
          "text": [
            "Reservoir pressure in Avatar Basin is 5050 psi\n"
          ]
        }
      ]
    }
  ]
}