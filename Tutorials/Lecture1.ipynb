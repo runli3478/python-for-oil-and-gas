{
  "nbformat": 4,
  "nbformat_minor": 0,
  "metadata": {
    "colab": {
      "name": "Lecture1.ipynb",
      "provenance": []
    },
    "kernelspec": {
      "name": "python3",
      "display_name": "Python 3"
    },
    "language_info": {
      "name": "python"
    }
  },
  "cells": [
    {
      "cell_type": "markdown",
      "source": [
        "Integers"
      ],
      "metadata": {
        "id": "wzT71eMJ4Yy7"
      }
    },
    {
      "cell_type": "code",
      "execution_count": 4,
      "metadata": {
        "colab": {
          "base_uri": "https://localhost:8080/"
        },
        "id": "mjXdwv5_4FQ2",
        "outputId": "319b1a12-e7ca-4dac-f7e5-958d0bce7139"
      },
      "outputs": [
        {
          "output_type": "stream",
          "name": "stdout",
          "text": [
            "5\n",
            "1000\n"
          ]
        }
      ],
      "source": [
        "print(5)\n",
        "type(5)\n",
        "print(1000)"
      ]
    },
    {
      "cell_type": "markdown",
      "source": [
        "Floats"
      ],
      "metadata": {
        "id": "KptZU5sh4j-p"
      }
    },
    {
      "cell_type": "code",
      "source": [
        "print(8.69)\n",
        "type(7.11)"
      ],
      "metadata": {
        "colab": {
          "base_uri": "https://localhost:8080/"
        },
        "id": "pjutz3wX4fa7",
        "outputId": "ab519979-11b6-4465-8e8e-d860cbafedaf"
      },
      "execution_count": 6,
      "outputs": [
        {
          "output_type": "stream",
          "name": "stdout",
          "text": [
            "8.69\n"
          ]
        },
        {
          "output_type": "execute_result",
          "data": {
            "text/plain": [
              "float"
            ]
          },
          "metadata": {},
          "execution_count": 6
        }
      ]
    },
    {
      "cell_type": "markdown",
      "source": [
        "Complex numbers"
      ],
      "metadata": {
        "id": "2OpdbbhU46QL"
      }
    },
    {
      "cell_type": "code",
      "source": [
        "print(3+2j)\n",
        "type(3+1j)"
      ],
      "metadata": {
        "colab": {
          "base_uri": "https://localhost:8080/"
        },
        "id": "fJR2ztcZ4-gY",
        "outputId": "45e41e72-d5bc-4e04-e041-5fdafab2bb88"
      },
      "execution_count": 8,
      "outputs": [
        {
          "output_type": "stream",
          "name": "stdout",
          "text": [
            "(3+2j)\n"
          ]
        },
        {
          "output_type": "execute_result",
          "data": {
            "text/plain": [
              "complex"
            ]
          },
          "metadata": {},
          "execution_count": 8
        }
      ]
    },
    {
      "cell_type": "markdown",
      "source": [
        "Booleans"
      ],
      "metadata": {
        "id": "l8Yji9RG5Lsh"
      }
    },
    {
      "cell_type": "code",
      "source": [
        "# True, False"
      ],
      "metadata": {
        "id": "XcJX9ZN55Jlg"
      },
      "execution_count": null,
      "outputs": []
    },
    {
      "cell_type": "markdown",
      "source": [
        "String"
      ],
      "metadata": {
        "id": "dCPOkSfI5gW5"
      }
    },
    {
      "cell_type": "code",
      "source": [
        "print(\"Hello World\")\n",
        "type(\"Hello World\")"
      ],
      "metadata": {
        "colab": {
          "base_uri": "https://localhost:8080/"
        },
        "id": "S6z_EKsr5jHa",
        "outputId": "ecc1f29e-9ddc-4c59-dc70-0ad327c8e2ff"
      },
      "execution_count": 11,
      "outputs": [
        {
          "output_type": "stream",
          "name": "stdout",
          "text": [
            "Hello World\n"
          ]
        },
        {
          "output_type": "execute_result",
          "data": {
            "text/plain": [
              "str"
            ]
          },
          "metadata": {},
          "execution_count": 11
        }
      ]
    },
    {
      "cell_type": "markdown",
      "source": [
        "Addition, Subtraction, Float Division, Integer Division, Multiplication"
      ],
      "metadata": {
        "id": "KO3nFRqe7j_p"
      }
    },
    {
      "cell_type": "code",
      "source": [
        "print(5+4)\n",
        "print(9-1)\n",
        "print(2+5j - (1-3j))\n",
        "print(5/2)\n",
        "print(5//2)\n",
        "print(5*2)"
      ],
      "metadata": {
        "id": "MlXRsR7f7vYH"
      },
      "execution_count": null,
      "outputs": []
    },
    {
      "cell_type": "markdown",
      "source": [
        "Exponent, Modulus (%)"
      ],
      "metadata": {
        "id": "LroXHx4N8MQw"
      }
    },
    {
      "cell_type": "code",
      "source": [
        "print(2**4)\n",
        "print(2**(1/2))\n",
        "round(2**0.5,4)\n",
        "print(5%6)"
      ],
      "metadata": {
        "colab": {
          "base_uri": "https://localhost:8080/"
        },
        "id": "WrxxiRAh8SMC",
        "outputId": "4a442db8-df9b-43d9-a5f7-5f3189275fbb"
      },
      "execution_count": 17,
      "outputs": [
        {
          "output_type": "stream",
          "name": "stdout",
          "text": [
            "16\n",
            "1.4142135623730951\n",
            "5\n"
          ]
        }
      ]
    }
  ]
}