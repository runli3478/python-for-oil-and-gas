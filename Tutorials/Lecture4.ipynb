{
  "nbformat": 4,
  "nbformat_minor": 0,
  "metadata": {
    "colab": {
      "name": "Lecture4.ipynb",
      "provenance": []
    },
    "kernelspec": {
      "name": "python3",
      "display_name": "Python 3"
    },
    "language_info": {
      "name": "python"
    }
  },
  "cells": [
    {
      "cell_type": "markdown",
      "source": [
        "Lowercase/Uppercase"
      ],
      "metadata": {
        "id": "ntowTn2ZGIHx"
      }
    },
    {
      "cell_type": "code",
      "execution_count": 4,
      "metadata": {
        "colab": {
          "base_uri": "https://localhost:8080/",
          "height": 35
        },
        "id": "-OYeDiDoF_9j",
        "outputId": "45771815-05a8-4ea4-8909-4c5e98b8133d"
      },
      "outputs": [
        {
          "output_type": "execute_result",
          "data": {
            "application/vnd.google.colaboratory.intrinsic+json": {
              "type": "string"
            },
            "text/plain": [
              "'PETROLEUM ENGINEERING IS A GOOD COURSE'"
            ]
          },
          "metadata": {},
          "execution_count": 4
        }
      ],
      "source": [
        "var = \"Petroleum Engineering Is A good course\"\n",
        "var.lower()\n",
        "var.upper()"
      ]
    },
    {
      "cell_type": "markdown",
      "source": [
        "Remove characters"
      ],
      "metadata": {
        "id": "SsVq3PLMHSN1"
      }
    },
    {
      "cell_type": "code",
      "source": [
        "fav_sub = input(\"What is your favourite subject?\\n\")"
      ],
      "metadata": {
        "colab": {
          "base_uri": "https://localhost:8080/"
        },
        "id": "gJcMged8GkiM",
        "outputId": "79fb4147-9bc3-42f6-cd26-a235bd42b659"
      },
      "execution_count": 9,
      "outputs": [
        {
          "name": "stdout",
          "output_type": "stream",
          "text": [
            "What is your favourite subject?\n",
            "     Reservoir Eng\n"
          ]
        }
      ]
    },
    {
      "cell_type": "code",
      "source": [
        "fav_sub.lstrip()"
      ],
      "metadata": {
        "colab": {
          "base_uri": "https://localhost:8080/",
          "height": 35
        },
        "id": "w7-vv8mSHht_",
        "outputId": "346016c7-8cfd-43a6-8f64-d7a38752d063"
      },
      "execution_count": 11,
      "outputs": [
        {
          "output_type": "execute_result",
          "data": {
            "application/vnd.google.colaboratory.intrinsic+json": {
              "type": "string"
            },
            "text/plain": [
              "'Reservoir Eng'"
            ]
          },
          "metadata": {},
          "execution_count": 11
        }
      ]
    },
    {
      "cell_type": "code",
      "source": [
        "var = \"///--var...py\"\n",
        "var.lstrip(\"/var-.\")\n",
        "var.lstrip(\"/var-.\").upper()"
      ],
      "metadata": {
        "colab": {
          "base_uri": "https://localhost:8080/",
          "height": 35
        },
        "id": "Kj5zSiyOIHjK",
        "outputId": "a38397e5-78ef-411f-c496-e1c01b31b2fe"
      },
      "execution_count": 14,
      "outputs": [
        {
          "output_type": "execute_result",
          "data": {
            "application/vnd.google.colaboratory.intrinsic+json": {
              "type": "string"
            },
            "text/plain": [
              "'py'"
            ]
          },
          "metadata": {},
          "execution_count": 14
        }
      ]
    },
    {
      "cell_type": "code",
      "source": [
        "additive = \"Bentonite is used to increase the density of drilling mud\""
      ],
      "metadata": {
        "id": "1Mb8-_7LIRbR"
      },
      "execution_count": 15,
      "outputs": []
    },
    {
      "cell_type": "code",
      "source": [
        "additive.replace(\"Bentonite\",\"Barite\")"
      ],
      "metadata": {
        "colab": {
          "base_uri": "https://localhost:8080/",
          "height": 35
        },
        "id": "UxAUpgagIxyL",
        "outputId": "0f86566a-7125-490d-fedf-a6b94eaa26ac"
      },
      "execution_count": 16,
      "outputs": [
        {
          "output_type": "execute_result",
          "data": {
            "application/vnd.google.colaboratory.intrinsic+json": {
              "type": "string"
            },
            "text/plain": [
              "'Barite is used to increase the density of drilling mud'"
            ]
          },
          "metadata": {},
          "execution_count": 16
        }
      ]
    },
    {
      "cell_type": "code",
      "source": [
        "additive_2 = additive.replace(\"Bentonite\",\"Barite\")"
      ],
      "metadata": {
        "id": "H_0ooa-_I3RQ"
      },
      "execution_count": 17,
      "outputs": []
    },
    {
      "cell_type": "code",
      "source": [
        "print(additive_2)"
      ],
      "metadata": {
        "colab": {
          "base_uri": "https://localhost:8080/"
        },
        "id": "x1v_coK9I_kw",
        "outputId": "990c53e7-964b-4fc9-c399-059e6700f4dc"
      },
      "execution_count": 18,
      "outputs": [
        {
          "output_type": "stream",
          "name": "stdout",
          "text": [
            "Barite is used to increase the density of drilling mud\n"
          ]
        }
      ]
    },
    {
      "cell_type": "markdown",
      "source": [
        "Find method"
      ],
      "metadata": {
        "id": "t7xahshFJLPH"
      }
    },
    {
      "cell_type": "code",
      "source": [
        "additive_2.find(\"density\")"
      ],
      "metadata": {
        "colab": {
          "base_uri": "https://localhost:8080/"
        },
        "id": "Wd1uhnptJNP9",
        "outputId": "4c1b1d49-33e6-46e2-d5e2-0b21bae1d67d"
      },
      "execution_count": 20,
      "outputs": [
        {
          "output_type": "execute_result",
          "data": {
            "text/plain": [
              "31"
            ]
          },
          "metadata": {},
          "execution_count": 20
        }
      ]
    },
    {
      "cell_type": "markdown",
      "source": [
        "Immutable string"
      ],
      "metadata": {
        "id": "7UaKd4q2J5pL"
      }
    },
    {
      "cell_type": "code",
      "source": [
        "wrl = \"Wong Run Li\""
      ],
      "metadata": {
        "id": "RUuztLkJJQQn"
      },
      "execution_count": 21,
      "outputs": []
    },
    {
      "cell_type": "code",
      "source": [
        "wrl.title()"
      ],
      "metadata": {
        "colab": {
          "base_uri": "https://localhost:8080/",
          "height": 35
        },
        "id": "cTrzfEYZKAsI",
        "outputId": "628440d2-df94-4e16-fc71-e92fbf27e451"
      },
      "execution_count": 22,
      "outputs": [
        {
          "output_type": "execute_result",
          "data": {
            "application/vnd.google.colaboratory.intrinsic+json": {
              "type": "string"
            },
            "text/plain": [
              "'Wong Run Li'"
            ]
          },
          "metadata": {},
          "execution_count": 22
        }
      ]
    },
    {
      "cell_type": "code",
      "source": [
        "wrl.find(\"R\")"
      ],
      "metadata": {
        "colab": {
          "base_uri": "https://localhost:8080/"
        },
        "id": "2kPFleERKCAb",
        "outputId": "a3e4b43c-2286-4763-9b3b-82761ba90d0c"
      },
      "execution_count": 23,
      "outputs": [
        {
          "output_type": "execute_result",
          "data": {
            "text/plain": [
              "5"
            ]
          },
          "metadata": {},
          "execution_count": 23
        }
      ]
    }
  ]
}