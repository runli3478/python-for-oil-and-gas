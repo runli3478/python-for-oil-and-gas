{
  "nbformat": 4,
  "nbformat_minor": 0,
  "metadata": {
    "colab": {
      "name": "Lecture5.ipynb",
      "provenance": []
    },
    "kernelspec": {
      "name": "python3",
      "display_name": "Python 3"
    },
    "language_info": {
      "name": "python"
    }
  },
  "cells": [
    {
      "cell_type": "markdown",
      "source": [
        "Nested if-else statement"
      ],
      "metadata": {
        "id": "tjrdoZoYL8on"
      }
    },
    {
      "cell_type": "code",
      "execution_count": null,
      "metadata": {
        "id": "IrexdEhfLCxp"
      },
      "outputs": [],
      "source": [
        "api = float(input(\"What is the API of crude oil?\\n\"))\n",
        "\n",
        "if api > 31.1:\n",
        "  print(\"It is a Light Crude Oil\")\n",
        "else:\n",
        "  if 22.3 < api < 31.1:\n",
        "    print(\"It is a Medium Crude Oil\")\n",
        "  else:\n",
        "    print(\"It is a Heavy Crude Oil\")"
      ]
    },
    {
      "cell_type": "code",
      "source": [
        "max_porosity = float(input(\"What is the maximum porosity? \\n\"))\n",
        "\n",
        "if (0.395 < max_porosity <= 0.476):\n",
        "  print(\"It is Cubic.\")\n",
        "elif (0.302 < max_porosity <= 0.395):\n",
        "  print(\"It is Hexagonal.\")\n",
        "elif (0 < max_porosity <= 0.260):\n",
        "  print(\"It is Rhonohedral.\")\n",
        "elif (0.260 < max_porosity <= 0.302):\n",
        "  print(\"It is Tetragonal.\")\n",
        "else:\n",
        "  print(\"This kind of packing does not match any of the options!\")"
      ],
      "metadata": {
        "colab": {
          "base_uri": "https://localhost:8080/"
        },
        "id": "U2pwGq9DMkWO",
        "outputId": "94a31c7a-99be-43d7-8653-f4057cb8f9e9"
      },
      "execution_count": 10,
      "outputs": [
        {
          "output_type": "stream",
          "name": "stdout",
          "text": [
            "What is the maximum porosity? \n",
            "0.2\n",
            "It is Rhonohedral.\n"
          ]
        }
      ]
    },
    {
      "cell_type": "markdown",
      "source": [
        "While-Loops"
      ],
      "metadata": {
        "id": "35HgUuLiQ7Y3"
      }
    },
    {
      "cell_type": "code",
      "source": [
        "a = 1\n",
        "\n",
        "while a <= 5:\n",
        "  print(\"Wong Run Li\")\n",
        "  a = a+1"
      ],
      "metadata": {
        "id": "sLukfLpZODy1",
        "colab": {
          "base_uri": "https://localhost:8080/"
        },
        "outputId": "37ea77f4-411e-4d85-adb6-0f3eafe2a28f"
      },
      "execution_count": 11,
      "outputs": [
        {
          "output_type": "stream",
          "name": "stdout",
          "text": [
            "Wong Run Li\n",
            "Wong Run Li\n",
            "Wong Run Li\n",
            "Wong Run Li\n",
            "Wong Run Li\n"
          ]
        }
      ]
    },
    {
      "cell_type": "code",
      "source": [
        "pres = 2000\n",
        "\n",
        "while pres < 2450:\n",
        "  print(f\"{pres} is not abnormal pressure\")\n",
        "  pres += 50\n",
        "else: \n",
        "  print(\"Now the pressure has become abnormal\")"
      ],
      "metadata": {
        "colab": {
          "base_uri": "https://localhost:8080/"
        },
        "id": "Rz5BjuS3Rw8s",
        "outputId": "7de35df9-4b55-4e6f-c20d-e70ae18341a4"
      },
      "execution_count": 20,
      "outputs": [
        {
          "output_type": "stream",
          "name": "stdout",
          "text": [
            "2000 is not abnormal pressure\n",
            "2050 is not abnormal pressure\n",
            "2100 is not abnormal pressure\n",
            "2150 is not abnormal pressure\n",
            "2200 is not abnormal pressure\n",
            "2250 is not abnormal pressure\n",
            "2300 is not abnormal pressure\n",
            "2350 is not abnormal pressure\n",
            "2400 is not abnormal pressure\n",
            "Now the pressure has become abnormal\n"
          ]
        }
      ]
    },
    {
      "cell_type": "code",
      "source": [
        "# sum of n natural numbers\n",
        "\n",
        "num = int(input(\"Enter a natural number: \\n\"))\n",
        "\n",
        "sum = 0\n",
        "i = 0\n",
        "\n",
        "while i <= num:\n",
        "  sum = sum + i\n",
        "  # print(sum) \n",
        "  i = i + 1\n",
        "print(sum)"
      ],
      "metadata": {
        "colab": {
          "base_uri": "https://localhost:8080/"
        },
        "id": "Gdl05pQMSbob",
        "outputId": "9d5ed071-bcd9-48de-c63a-8669eb7a2bfc"
      },
      "execution_count": 19,
      "outputs": [
        {
          "output_type": "stream",
          "name": "stdout",
          "text": [
            "Enter a natural number: \n",
            "100\n",
            "5050\n"
          ]
        }
      ]
    },
    {
      "cell_type": "markdown",
      "source": [
        "For-Loop"
      ],
      "metadata": {
        "id": "BEoQsh7XT0lM"
      }
    },
    {
      "cell_type": "code",
      "source": [
        "for i in range(0,5):\n",
        "  print(i)"
      ],
      "metadata": {
        "colab": {
          "base_uri": "https://localhost:8080/"
        },
        "id": "USg-wHK1S67_",
        "outputId": "69aa8d54-6c7c-4ed8-8888-2bf192b06b56"
      },
      "execution_count": 22,
      "outputs": [
        {
          "output_type": "stream",
          "name": "stdout",
          "text": [
            "0\n",
            "1\n",
            "2\n",
            "3\n",
            "4\n"
          ]
        }
      ]
    },
    {
      "cell_type": "code",
      "source": [
        "for i in range(0,5):\n",
        "  print(\"WRL is a Petroleum Engineer!\")"
      ],
      "metadata": {
        "colab": {
          "base_uri": "https://localhost:8080/"
        },
        "id": "X67EWYlsT7ne",
        "outputId": "8bb5fc2d-ae17-4bcd-9681-8ca8d0823fb7"
      },
      "execution_count": 23,
      "outputs": [
        {
          "output_type": "stream",
          "name": "stdout",
          "text": [
            "WRL is a Petroleum Engineer!\n",
            "WRL is a Petroleum Engineer!\n",
            "WRL is a Petroleum Engineer!\n",
            "WRL is a Petroleum Engineer!\n",
            "WRL is a Petroleum Engineer!\n"
          ]
        }
      ]
    },
    {
      "cell_type": "markdown",
      "source": [
        "Comparison of While Loop and For Loop"
      ],
      "metadata": {
        "id": "VFbAsv6nUiIS"
      }
    },
    {
      "cell_type": "code",
      "source": [
        "# While loop\n",
        "c = 0\n",
        "total = 0\n",
        "while c <= 10:\n",
        "  total = total + c\n",
        "  c = c+ 1\n",
        "print(total)"
      ],
      "metadata": {
        "colab": {
          "base_uri": "https://localhost:8080/"
        },
        "id": "NIuWVR0mUSuU",
        "outputId": "7ee0bb69-2f89-47ff-cad1-7b518f4bfab2"
      },
      "execution_count": 30,
      "outputs": [
        {
          "output_type": "stream",
          "name": "stdout",
          "text": [
            "55\n"
          ]
        }
      ]
    },
    {
      "cell_type": "code",
      "source": [
        "# For loop\n",
        "\n",
        "sum = 0\n",
        "\n",
        "for i in range(1,11):\n",
        "  sum = sum + i\n",
        "print(sum)"
      ],
      "metadata": {
        "colab": {
          "base_uri": "https://localhost:8080/"
        },
        "id": "s4N3NcBSUuVg",
        "outputId": "74cdb891-f0ff-4a05-f2f5-c6a295f22da2"
      },
      "execution_count": 27,
      "outputs": [
        {
          "output_type": "stream",
          "name": "stdout",
          "text": [
            "55\n"
          ]
        }
      ]
    }
  ]
}