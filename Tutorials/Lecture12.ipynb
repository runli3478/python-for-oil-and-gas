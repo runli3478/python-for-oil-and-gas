{
  "nbformat": 4,
  "nbformat_minor": 0,
  "metadata": {
    "colab": {
      "name": "Lecture12.ipynb",
      "provenance": []
    },
    "kernelspec": {
      "name": "python3",
      "display_name": "Python 3"
    },
    "language_info": {
      "name": "python"
    }
  },
  "cells": [
    {
      "cell_type": "markdown",
      "source": [
        "Set { }"
      ],
      "metadata": {
        "id": "FFi3XhZ_wm7P"
      }
    },
    {
      "cell_type": "code",
      "execution_count": 1,
      "metadata": {
        "colab": {
          "base_uri": "https://localhost:8080/"
        },
        "id": "wHrJUthvwfYh",
        "outputId": "961b67d9-0563-400b-ddff-186c38180fb7"
      },
      "outputs": [
        {
          "output_type": "execute_result",
          "data": {
            "text/plain": [
              "set"
            ]
          },
          "metadata": {},
          "execution_count": 1
        }
      ],
      "source": [
        "a = {1,2,3}\n",
        "type(a)"
      ]
    },
    {
      "cell_type": "code",
      "source": [
        "a.update([4,5])"
      ],
      "metadata": {
        "id": "sE5Km2VLxChO"
      },
      "execution_count": 3,
      "outputs": []
    },
    {
      "cell_type": "code",
      "source": [
        "print(a)"
      ],
      "metadata": {
        "colab": {
          "base_uri": "https://localhost:8080/"
        },
        "id": "4jbR3tWFxKsA",
        "outputId": "bc5a60ca-0b45-4ff6-e2fb-ebb86f114251"
      },
      "execution_count": 4,
      "outputs": [
        {
          "output_type": "stream",
          "name": "stdout",
          "text": [
            "{1, 2, 3, 4, 5}\n"
          ]
        }
      ]
    },
    {
      "cell_type": "code",
      "source": [
        " a.update([\"haha\"])"
      ],
      "metadata": {
        "id": "EPLmseuvxPaW"
      },
      "execution_count": 6,
      "outputs": []
    },
    {
      "cell_type": "code",
      "source": [
        "print(a)"
      ],
      "metadata": {
        "colab": {
          "base_uri": "https://localhost:8080/"
        },
        "id": "j5mG_FvrxlUf",
        "outputId": "cd0521a1-bfa5-4268-febf-cdea47c14075"
      },
      "execution_count": 7,
      "outputs": [
        {
          "output_type": "stream",
          "name": "stdout",
          "text": [
            "{1, 2, 3, 4, 5, 'haha'}\n"
          ]
        }
      ]
    },
    {
      "cell_type": "code",
      "source": [
        "well_1 = {'shale', 'sandstone', \"limestone\"}\n",
        "well_2 = {\"sandstone\", \"salt dome\"}\n",
        "\n",
        "b = well_1 | well_2\n",
        "c = well_1 & well_2\n",
        "print(b)\n",
        "print(c)"
      ],
      "metadata": {
        "colab": {
          "base_uri": "https://localhost:8080/"
        },
        "id": "W0E3QX3Kxnsa",
        "outputId": "80b00125-9812-4155-a13d-3e845658823d"
      },
      "execution_count": 14,
      "outputs": [
        {
          "output_type": "stream",
          "name": "stdout",
          "text": [
            "{'limestone', 'sandstone', 'shale', 'salt dome'}\n",
            "{'sandstone'}\n"
          ]
        }
      ]
    },
    {
      "cell_type": "markdown",
      "source": [
        "List comprehension"
      ],
      "metadata": {
        "id": "L3Eg1bLfC5OV"
      }
    },
    {
      "cell_type": "code",
      "source": [
        "# cut down the code size\n",
        "# example:\n",
        "por=[10,20,35,19,18]\n",
        "# long method\n",
        "por_frac = []\n",
        "for i in por:\n",
        "  por_frac.append(i/100)\n",
        "print(por_frac)"
      ],
      "metadata": {
        "colab": {
          "base_uri": "https://localhost:8080/"
        },
        "id": "H4MyQ3Rh7MJy",
        "outputId": "ca55161b-7d70-40a5-da43-1a1153c97a99"
      },
      "execution_count": 15,
      "outputs": [
        {
          "output_type": "stream",
          "name": "stdout",
          "text": [
            "[0.1, 0.2, 0.35, 0.19, 0.18]\n"
          ]
        }
      ]
    },
    {
      "cell_type": "code",
      "source": [
        "por_frac_new = [i/100 for i in por]\n",
        "print(por_frac_new)"
      ],
      "metadata": {
        "colab": {
          "base_uri": "https://localhost:8080/"
        },
        "id": "F7wBERjrBRRL",
        "outputId": "8d40c5fd-dc52-4864-a1ed-d56fdfeda7ae"
      },
      "execution_count": 17,
      "outputs": [
        {
          "output_type": "stream",
          "name": "stdout",
          "text": [
            "[0.1, 0.2, 0.35, 0.19, 0.18]\n"
          ]
        }
      ]
    },
    {
      "cell_type": "code",
      "source": [
        "sat_w = [0.14, 0.45, 0.29, 0.16]\n",
        "sat_o = []\n",
        "for i in sat_w:\n",
        "  sat_o.append(1-i)\n",
        "print(sat_o)"
      ],
      "metadata": {
        "colab": {
          "base_uri": "https://localhost:8080/"
        },
        "id": "zcodLld5Bidr",
        "outputId": "ac21751d-7d18-40e0-f399-2db1adaac14d"
      },
      "execution_count": 19,
      "outputs": [
        {
          "output_type": "stream",
          "name": "stdout",
          "text": [
            "[0.86, 0.55, 0.71, 0.84]\n"
          ]
        }
      ]
    },
    {
      "cell_type": "code",
      "source": [
        "def sat_oil(a):\n",
        "  o_s = []\n",
        "  for i in a:\n",
        "    o_s.append(1-i)\n",
        "  return o_s\n",
        "sat_oil(sat_w)"
      ],
      "metadata": {
        "colab": {
          "base_uri": "https://localhost:8080/"
        },
        "id": "kjQj0MLCCDe1",
        "outputId": "83459695-4628-4e6a-e7f6-499570c82e20"
      },
      "execution_count": 22,
      "outputs": [
        {
          "output_type": "execute_result",
          "data": {
            "text/plain": [
              "[0.86, 0.55, 0.71, 0.84]"
            ]
          },
          "metadata": {},
          "execution_count": 22
        }
      ]
    },
    {
      "cell_type": "code",
      "source": [
        "def sat_oil(a):\n",
        "  oil = [1-i for i in a]\n",
        "  return oil\n",
        "sat_oil(sat_w)"
      ],
      "metadata": {
        "colab": {
          "base_uri": "https://localhost:8080/"
        },
        "id": "eFy6TyRwCScI",
        "outputId": "a69ff572-c654-4d56-bd00-5ae8b4ffb7fb"
      },
      "execution_count": 23,
      "outputs": [
        {
          "output_type": "execute_result",
          "data": {
            "text/plain": [
              "[0.86, 0.55, 0.71, 0.84]"
            ]
          },
          "metadata": {},
          "execution_count": 23
        }
      ]
    },
    {
      "cell_type": "code",
      "source": [
        "# Long method\n",
        "perm = [10,14,20,25,33,35,40,45]\n",
        "less_32 = []\n",
        "more_32 = []\n",
        "for i in perm:\n",
        "  if i < 32:\n",
        "    less_32.append(i)\n",
        "  else:\n",
        "    more_32.append(i)\n",
        "print(less_32)\n",
        "print(more_32)"
      ],
      "metadata": {
        "colab": {
          "base_uri": "https://localhost:8080/"
        },
        "id": "ZqtlH6NbCU2V",
        "outputId": "d419800c-5d50-4c07-c2a7-30e8fc454644"
      },
      "execution_count": 24,
      "outputs": [
        {
          "output_type": "stream",
          "name": "stdout",
          "text": [
            "[10, 14, 20, 25]\n",
            "[33, 35, 40, 45]\n"
          ]
        }
      ]
    },
    {
      "cell_type": "code",
      "source": [
        "# Short\n",
        "less_32 = [i for i in perm if i < 32]\n",
        "more_32 = [i for i in perm if i > 32]\n",
        "print(less_32)\n",
        "print(more_32)"
      ],
      "metadata": {
        "colab": {
          "base_uri": "https://localhost:8080/"
        },
        "id": "aMUV1GThDy8c",
        "outputId": "04890cd6-df16-4448-c17f-7e6b60376bf9"
      },
      "execution_count": 25,
      "outputs": [
        {
          "output_type": "stream",
          "name": "stdout",
          "text": [
            "[10, 14, 20, 25]\n",
            "[33, 35, 40, 45]\n"
          ]
        }
      ]
    },
    {
      "cell_type": "code",
      "source": [
        "perm = [10,14,20,25,33,35,40,45, 32]\n",
        "\n",
        "even_odd = []\n",
        "for i in perm:\n",
        "  if i % 2 == 0:\n",
        "    even_odd.append(\"Even\")\n",
        "  else:\n",
        "    even_odd.append(\"Odd\")\n",
        "print(even_odd)"
      ],
      "metadata": {
        "colab": {
          "base_uri": "https://localhost:8080/"
        },
        "id": "gBFL2nYMERuv",
        "outputId": "0a6887e6-0e16-4d1e-e798-2a86ae6bf3b5"
      },
      "execution_count": 26,
      "outputs": [
        {
          "output_type": "stream",
          "name": "stdout",
          "text": [
            "['Even', 'Even', 'Even', 'Odd', 'Odd', 'Odd', 'Even', 'Odd', 'Even']\n"
          ]
        }
      ]
    },
    {
      "cell_type": "code",
      "source": [
        "even_odd = [\"Even\" if i % 2 == 0 else \"Odd\" for i in perm]\n",
        "print(even_odd)"
      ],
      "metadata": {
        "colab": {
          "base_uri": "https://localhost:8080/"
        },
        "id": "TI8AqqaTE8BJ",
        "outputId": "72607825-9b56-4e6c-f121-cb1d7c48bf9d"
      },
      "execution_count": 27,
      "outputs": [
        {
          "output_type": "stream",
          "name": "stdout",
          "text": [
            "['Even', 'Even', 'Even', 'Odd', 'Odd', 'Odd', 'Even', 'Odd', 'Even']\n"
          ]
        }
      ]
    },
    {
      "cell_type": "code",
      "source": [
        "flow_rates = [5,4.2,6,10,3.1]\n",
        "\n",
        "bbl_day = []\n",
        "for i in flow_rates:\n",
        "  bbl_day.append(i * 0.54343965056534)\n",
        "print(bbl_day)"
      ],
      "metadata": {
        "colab": {
          "base_uri": "https://localhost:8080/"
        },
        "id": "YosMvDrLFTDX",
        "outputId": "b2638705-8549-4a3d-f778-830b81012439"
      },
      "execution_count": 28,
      "outputs": [
        {
          "output_type": "stream",
          "name": "stdout",
          "text": [
            "[2.7171982528267002, 2.2824465323744283, 3.2606379033920403, 5.4343965056534005, 1.6846629167525542]\n"
          ]
        }
      ]
    },
    {
      "cell_type": "code",
      "source": [
        "bbl_day = [i * 0.54343965056534 for i in flow_rates]\n",
        "print(bbl_day)"
      ],
      "metadata": {
        "colab": {
          "base_uri": "https://localhost:8080/"
        },
        "id": "pPtQu-ekGRbD",
        "outputId": "daf132b5-6c08-4504-be72-b62dc656fa12"
      },
      "execution_count": 29,
      "outputs": [
        {
          "output_type": "stream",
          "name": "stdout",
          "text": [
            "[2.7171982528267002, 2.2824465323744283, 3.2606379033920403, 5.4343965056534005, 1.6846629167525542]\n"
          ]
        }
      ]
    },
    {
      "cell_type": "markdown",
      "source": [
        "Assignment(Comprehension)"
      ],
      "metadata": {
        "id": "rpGrhQhTKmYi"
      }
    },
    {
      "cell_type": "code",
      "source": [
        "my_list = [\"Wong\", \"RunLi\", 23, \"Basketball\"]\n",
        "\n",
        "# long method\n",
        "\n",
        "result = []\n",
        "for i in my_list:\n",
        "  if type(i) == str:\n",
        "    result.append(i[2])\n",
        "print(result)"
      ],
      "metadata": {
        "colab": {
          "base_uri": "https://localhost:8080/"
        },
        "id": "CGmFOopsGlrC",
        "outputId": "e9414d60-d1cc-4011-df1b-411133e2bea2"
      },
      "execution_count": 35,
      "outputs": [
        {
          "output_type": "stream",
          "name": "stdout",
          "text": [
            "['n', 'n', 's']\n"
          ]
        }
      ]
    },
    {
      "cell_type": "code",
      "source": [
        "# short method\n",
        "\n",
        "result_new = [i[2] for i in my_list if type(i) == str]\n",
        "print(result_new)"
      ],
      "metadata": {
        "colab": {
          "base_uri": "https://localhost:8080/"
        },
        "id": "NThZU8yEQo6o",
        "outputId": "fb35ba4e-f716-4794-b92b-e608d1207aa9"
      },
      "execution_count": 36,
      "outputs": [
        {
          "output_type": "stream",
          "name": "stdout",
          "text": [
            "['n', 'n', 's']\n"
          ]
        }
      ]
    },
    {
      "cell_type": "markdown",
      "source": [
        "Dictionary comprehension"
      ],
      "metadata": {
        "id": "QBs99HkKcOVK"
      }
    },
    {
      "cell_type": "code",
      "source": [
        "sat_w = [0.1,0.2,0.3,0.255,0.34,0.15]\n",
        "\n",
        "sat_hc = {f'Hydrocarbon saturation for {i} water saturation is':1-i for i in sat_w}\n",
        "print(sat_hc)"
      ],
      "metadata": {
        "colab": {
          "base_uri": "https://localhost:8080/"
        },
        "id": "nH1COcdJTVwc",
        "outputId": "df9a9e8d-f000-4908-9bd0-3c809f0771f0"
      },
      "execution_count": 38,
      "outputs": [
        {
          "output_type": "stream",
          "name": "stdout",
          "text": [
            "{'Hydrocarbon saturation for 0.1 water saturation is': 0.9, 'Hydrocarbon saturation for 0.2 water saturation is': 0.8, 'Hydrocarbon saturation for 0.3 water saturation is': 0.7, 'Hydrocarbon saturation for 0.255 water saturation is': 0.745, 'Hydrocarbon saturation for 0.34 water saturation is': 0.6599999999999999, 'Hydrocarbon saturation for 0.15 water saturation is': 0.85}\n"
          ]
        }
      ]
    },
    {
      "cell_type": "code",
      "source": [
        "por = [10,12,16,24,31,27]\n",
        "\n",
        "por_frac = {f'Fraction of porosity {i} % is':i/100 for i in por}\n",
        "print(por_frac)"
      ],
      "metadata": {
        "colab": {
          "base_uri": "https://localhost:8080/"
        },
        "id": "zZG0Y4XPc1DG",
        "outputId": "b2106a96-a9fd-4b3f-99eb-6bf5e8a1f945"
      },
      "execution_count": 39,
      "outputs": [
        {
          "output_type": "stream",
          "name": "stdout",
          "text": [
            "{'Fraction of porosity 10 % is': 0.1, 'Fraction of porosity 12 % is': 0.12, 'Fraction of porosity 16 % is': 0.16, 'Fraction of porosity 24 % is': 0.24, 'Fraction of porosity 31 % is': 0.31, 'Fraction of porosity 27 % is': 0.27}\n"
          ]
        }
      ]
    },
    {
      "cell_type": "code",
      "source": [
        "name = input(\"Please enter your name here: \\n\")\n",
        "\n",
        "counter = {i:name.count(i) for i in name}\n",
        "print(counter)"
      ],
      "metadata": {
        "colab": {
          "base_uri": "https://localhost:8080/"
        },
        "id": "o4-z_w1odr2M",
        "outputId": "655ed4a8-e2d2-4a00-9111-adb69a7f66bc"
      },
      "execution_count": 40,
      "outputs": [
        {
          "output_type": "stream",
          "name": "stdout",
          "text": [
            "Please enter your name here: \n",
            "WRL\n",
            "{'W': 1, 'R': 1, 'L': 1}\n"
          ]
        }
      ]
    },
    {
      "cell_type": "code",
      "source": [
        "perm = [10,14,20,25,33,35,40,45]\n",
        "\n",
        "perm_new = {f\"{i} is Even\" if i % 2 == 0 else f\"{i} is Odd\" for i in perm}\n",
        "print(perm_new)"
      ],
      "metadata": {
        "colab": {
          "base_uri": "https://localhost:8080/"
        },
        "id": "ZXccDJZ7d97o",
        "outputId": "b1946753-ea0a-4210-b94a-7ae5f332752d"
      },
      "execution_count": 41,
      "outputs": [
        {
          "output_type": "stream",
          "name": "stdout",
          "text": [
            "{'35 is Odd', '33 is Odd', '25 is Odd', '45 is Odd', '20 is Even', '40 is Even', '10 is Even', '14 is Even'}\n"
          ]
        }
      ]
    },
    {
      "cell_type": "markdown",
      "source": [
        "Set comprehension"
      ],
      "metadata": {
        "id": "UbgYI3nKfKjw"
      }
    },
    {
      "cell_type": "code",
      "source": [
        "list_1 = {\"Petroleum\", \"From\", \"Scratch\", \"246\", 246}\n",
        "set_1 = {i[::-1] for i in list_1 if type(i) == str}\n",
        "\n",
        "print(set_1)"
      ],
      "metadata": {
        "colab": {
          "base_uri": "https://localhost:8080/"
        },
        "id": "b0lNDHa0e53f",
        "outputId": "8eec5046-ccad-48a9-f87e-19e0ad836e03"
      },
      "execution_count": 42,
      "outputs": [
        {
          "output_type": "stream",
          "name": "stdout",
          "text": [
            "{'morF', 'muelorteP', 'hctarcS', '642'}\n"
          ]
        }
      ]
    },
    {
      "cell_type": "code",
      "source": [
        ""
      ],
      "metadata": {
        "id": "sIojvRuofmFN"
      },
      "execution_count": null,
      "outputs": []
    }
  ]
}