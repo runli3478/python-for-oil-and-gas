{
  "nbformat": 4,
  "nbformat_minor": 0,
  "metadata": {
    "colab": {
      "name": "Lecture10.ipynb",
      "provenance": []
    },
    "kernelspec": {
      "name": "python3",
      "display_name": "Python 3"
    },
    "language_info": {
      "name": "python"
    }
  },
  "cells": [
    {
      "cell_type": "markdown",
      "source": [
        "Dictionary"
      ],
      "metadata": {
        "id": "1RzWG_TjuT0s"
      }
    },
    {
      "cell_type": "code",
      "execution_count": null,
      "metadata": {
        "colab": {
          "base_uri": "https://localhost:8080/"
        },
        "id": "aorC2SiKt5tB",
        "outputId": "33adbd25-ed49-4fa9-e158-2060dd11ffde"
      },
      "outputs": [
        {
          "output_type": "stream",
          "name": "stdout",
          "text": [
            "{'res_a': 0.2, 'res_b': 0.2, 'res_c': 0.4}\n"
          ]
        }
      ],
      "source": [
        "num_dict = dict(res_a = 0.2, res_b = 0.20, res_c = 0.40)\n",
        "print(num_dict)"
      ]
    },
    {
      "cell_type": "code",
      "source": [
        "xyz = [(\"res_a\", 0.12), (\"res_b\", 0.5), (\"res_c\", 0.6)]\n",
        "abc = dict(xyz)\n",
        "print(abc)"
      ],
      "metadata": {
        "colab": {
          "base_uri": "https://localhost:8080/"
        },
        "id": "R3LvLdUgyVb4",
        "outputId": "b6aa31fa-caf7-4594-b176-09f84c0e7714"
      },
      "execution_count": null,
      "outputs": [
        {
          "output_type": "stream",
          "name": "stdout",
          "text": [
            "{'res_a': 0.12, 'res_b': 0.5, 'res_c': 0.6}\n"
          ]
        }
      ]
    },
    {
      "cell_type": "code",
      "source": [
        "exer = {\n",
        "    \"Name\": \"Wong Run Li\",\n",
        "    \"College\": \"UTM\",\n",
        "    \"Favourite Movie\": [\"ZOMBIE\",\"Vampire\"],\n",
        "    \"Hobby\": [\"Basketball\",\"Football\"]\n",
        "}\n",
        "print(exer)"
      ],
      "metadata": {
        "colab": {
          "base_uri": "https://localhost:8080/"
        },
        "id": "nefoE52yyvEO",
        "outputId": "3835bdad-3bcb-43a7-f264-ecd02e2a687c"
      },
      "execution_count": null,
      "outputs": [
        {
          "output_type": "stream",
          "name": "stdout",
          "text": [
            "{'Name': 'Wong Run Li', 'College': 'UTM', 'Favourite Movie': ['ZOMBIE', 'Vampire'], 'Hobby': ['Basketball', 'Football']}\n"
          ]
        }
      ]
    },
    {
      "cell_type": "code",
      "source": [
        "exer[\"Hobby\"]"
      ],
      "metadata": {
        "colab": {
          "base_uri": "https://localhost:8080/"
        },
        "id": "Dib_K5IB0Iu-",
        "outputId": "d4424eb2-bc94-49e9-dba2-58cc2bd61169"
      },
      "execution_count": null,
      "outputs": [
        {
          "output_type": "execute_result",
          "data": {
            "text/plain": [
              "['Basketball', 'Football']"
            ]
          },
          "metadata": {},
          "execution_count": 8
        }
      ]
    },
    {
      "cell_type": "markdown",
      "source": [
        "Add data to dictionary"
      ],
      "metadata": {
        "id": "hGedLx6R2rBa"
      }
    },
    {
      "cell_type": "code",
      "source": [
        "a  = [\"hey\",\"there\"]\n",
        "\n",
        "a[1] = \"Welcome\"\n",
        "print(a)"
      ],
      "metadata": {
        "colab": {
          "base_uri": "https://localhost:8080/"
        },
        "id": "6AHXb86_0LeP",
        "outputId": "222106ee-307c-4cf1-b2f5-f9ac10cd6172"
      },
      "execution_count": null,
      "outputs": [
        {
          "output_type": "stream",
          "name": "stdout",
          "text": [
            "['hey', 'Welcome']\n"
          ]
        }
      ]
    },
    {
      "cell_type": "code",
      "source": [
        "b = {}\n",
        "b[\"name\"] = \"Run Li\"\n",
        "b[\"college\"] = \"UTM_KTHO\"\n",
        "print(b)"
      ],
      "metadata": {
        "colab": {
          "base_uri": "https://localhost:8080/"
        },
        "id": "RUrCj-6m24hH",
        "outputId": "5e2d21aa-0aba-4469-ed4c-77250ca7165c"
      },
      "execution_count": null,
      "outputs": [
        {
          "output_type": "stream",
          "name": "stdout",
          "text": [
            "{'name': 'Run Li', 'college': 'UTM_KTHO'}\n"
          ]
        }
      ]
    },
    {
      "cell_type": "code",
      "source": [
        "drilling_data = {\n",
        "    \"drill_bit\": \"PDC\",\n",
        "    \"KOP\": 1000,\n",
        "    \"measurements\": {\"TVD\": 1500, \"MD\": 2100},\n",
        "    \"formations\": [\"shale\", \"limestone\", \"sandstone\"]\n",
        "}\n",
        "print(drilling_data)"
      ],
      "metadata": {
        "colab": {
          "base_uri": "https://localhost:8080/"
        },
        "id": "mEx4Wqkb3uze",
        "outputId": "53d30a3e-e9e4-4fc8-a498-fd041253c923"
      },
      "execution_count": 11,
      "outputs": [
        {
          "output_type": "stream",
          "name": "stdout",
          "text": [
            "{'drill_bit': 'PDC', 'KOP': 1000, 'measurements': {'TVD': 1500, 'MD': 2100}, 'formations': ['shale', 'limestone', 'sandstone']}\n"
          ]
        }
      ]
    },
    {
      "cell_type": "code",
      "source": [
        "drilling_data[\"measurements\"]"
      ],
      "metadata": {
        "colab": {
          "base_uri": "https://localhost:8080/"
        },
        "id": "ESh5da3W42Rc",
        "outputId": "a735bf47-f694-46d2-df6f-c65cafe753c9"
      },
      "execution_count": 12,
      "outputs": [
        {
          "output_type": "execute_result",
          "data": {
            "text/plain": [
              "{'MD': 2100, 'TVD': 1500}"
            ]
          },
          "metadata": {},
          "execution_count": 12
        }
      ]
    },
    {
      "cell_type": "code",
      "source": [
        "if \"formations\" in drilling_data:\n",
        "  print(\"Present\")\n",
        "else:\n",
        "  print(\"Not present\")"
      ],
      "metadata": {
        "colab": {
          "base_uri": "https://localhost:8080/"
        },
        "id": "F5VXEfQZ47aF",
        "outputId": "eda854af-0749-4636-8781-72475d3f294b"
      },
      "execution_count": 13,
      "outputs": [
        {
          "output_type": "stream",
          "name": "stdout",
          "text": [
            "Present\n"
          ]
        }
      ]
    },
    {
      "cell_type": "code",
      "source": [
        "for i in drilling_data:\n",
        "  print(i)"
      ],
      "metadata": {
        "colab": {
          "base_uri": "https://localhost:8080/"
        },
        "id": "4Z9ayElF5W-M",
        "outputId": "501d4f59-233a-4beb-cb12-e1ca45a49679"
      },
      "execution_count": 14,
      "outputs": [
        {
          "output_type": "stream",
          "name": "stdout",
          "text": [
            "drill_bit\n",
            "KOP\n",
            "measurements\n",
            "formations\n"
          ]
        }
      ]
    },
    {
      "cell_type": "code",
      "source": [
        "for i in drilling_data:\n",
        "  print(drilling_data[i])"
      ],
      "metadata": {
        "colab": {
          "base_uri": "https://localhost:8080/"
        },
        "id": "lyA0_O1F5xTG",
        "outputId": "e56474b5-6332-457f-db6c-82eafcf73a1f"
      },
      "execution_count": 15,
      "outputs": [
        {
          "output_type": "stream",
          "name": "stdout",
          "text": [
            "PDC\n",
            "1000\n",
            "{'TVD': 1500, 'MD': 2100}\n",
            "['shale', 'limestone', 'sandstone']\n"
          ]
        }
      ]
    },
    {
      "cell_type": "code",
      "source": [
        "drilling_data.values()"
      ],
      "metadata": {
        "colab": {
          "base_uri": "https://localhost:8080/"
        },
        "id": "893tANjT6GEb",
        "outputId": "ebc6c6a6-6d8a-40f6-f3fe-789d5db8746c"
      },
      "execution_count": 16,
      "outputs": [
        {
          "output_type": "execute_result",
          "data": {
            "text/plain": [
              "dict_values(['PDC', 1000, {'TVD': 1500, 'MD': 2100}, ['shale', 'limestone', 'sandstone']])"
            ]
          },
          "metadata": {},
          "execution_count": 16
        }
      ]
    },
    {
      "cell_type": "code",
      "source": [
        "if 1000 in drilling_data.values():\n",
        "  print(\"Present\")\n",
        "else:\n",
        "  print(\"Not present\")"
      ],
      "metadata": {
        "id": "4RN57otC1egL",
        "colab": {
          "base_uri": "https://localhost:8080/"
        },
        "outputId": "cc5f5439-585c-49ae-8735-2fa6c99f2ebc"
      },
      "execution_count": 17,
      "outputs": [
        {
          "output_type": "stream",
          "name": "stdout",
          "text": [
            "Present\n"
          ]
        }
      ]
    },
    {
      "cell_type": "code",
      "source": [
        "for i in drilling_data:     \n",
        "  print(drilling_data[i])\n"
      ],
      "metadata": {
        "colab": {
          "base_uri": "https://localhost:8080/"
        },
        "id": "sZ6BV3qe19vL",
        "outputId": "49ce5e83-9ffd-449b-a807-a3be16ea7152"
      },
      "execution_count": null,
      "outputs": [
        {
          "output_type": "stream",
          "name": "stdout",
          "text": [
            "PDC\n",
            "1000\n",
            "{'TVD': 1500, 'MD': 2100}\n",
            "['shale', 'limestone', 'sandstone']\n"
          ]
        }
      ]
    },
    {
      "cell_type": "code",
      "source": [
        "drilling_data.items()\n"
      ],
      "metadata": {
        "colab": {
          "base_uri": "https://localhost:8080/"
        },
        "id": "EcigKuew4RYK",
        "outputId": "5c0a8ac0-5e6e-4bff-8227-191e06eae2d5"
      },
      "execution_count": null,
      "outputs": [
        {
          "output_type": "execute_result",
          "data": {
            "text/plain": [
              "dict_items([('drill_bit', 'PDC'), ('KOP', 1000), ('measurements', {'TVD': 1500, 'MD': 2100}), ('formations', ['shale', 'limestone', 'sandstone'])])"
            ]
          },
          "metadata": {},
          "execution_count": 19
        }
      ]
    },
    {
      "cell_type": "code",
      "source": [
        "for i in drilling_data.items():\n",
        "  print(i)"
      ],
      "metadata": {
        "colab": {
          "base_uri": "https://localhost:8080/"
        },
        "id": "2-6gb7Ec5Db5",
        "outputId": "15cfe146-79b7-4306-eb10-c1b16c60216e"
      },
      "execution_count": null,
      "outputs": [
        {
          "output_type": "stream",
          "name": "stdout",
          "text": [
            "('drill_bit', 'PDC')\n",
            "('KOP', 1000)\n",
            "('measurements', {'TVD': 1500, 'MD': 2100})\n",
            "('formations', ['shale', 'limestone', 'sandstone'])\n"
          ]
        }
      ]
    },
    {
      "cell_type": "code",
      "source": [
        "for i, j in drilling_data.items():\n",
        "  print(f\"{i}:{j}\")"
      ],
      "metadata": {
        "colab": {
          "base_uri": "https://localhost:8080/"
        },
        "id": "GwEe4MBz5eJt",
        "outputId": "16343cd3-3240-45db-e013-a720c0c8c36e"
      },
      "execution_count": null,
      "outputs": [
        {
          "output_type": "stream",
          "name": "stdout",
          "text": [
            "drill_bit:PDC\n",
            "KOP:1000\n",
            "measurements:{'TVD': 1500, 'MD': 2100}\n",
            "formations:['shale', 'limestone', 'sandstone']\n"
          ]
        }
      ]
    },
    {
      "cell_type": "code",
      "source": [
        "more_drill_data ={\n",
        "    \"field\": \"Wong\",\n",
        "    \"state\": \"Run\"\n",
        "}"
      ],
      "metadata": {
        "id": "nMESNkes6mBt"
      },
      "execution_count": 6,
      "outputs": []
    },
    {
      "cell_type": "markdown",
      "source": [
        "Update dictionary"
      ],
      "metadata": {
        "id": "vQpO_jrOkqII"
      }
    },
    {
      "cell_type": "code",
      "source": [
        "drilling_data.update(more_drill_data)\n",
        "\n",
        "print(drilling_data)"
      ],
      "metadata": {
        "colab": {
          "base_uri": "https://localhost:8080/"
        },
        "id": "1XDCzxcyjzNJ",
        "outputId": "76335792-bd0b-4e1a-b31b-50d6ecc5721c"
      },
      "execution_count": 18,
      "outputs": [
        {
          "output_type": "stream",
          "name": "stdout",
          "text": [
            "{'drill_bit': 'PDC', 'KOP': 1000, 'measurements': {'TVD': 1500, 'MD': 2100}, 'formations': ['shale', 'limestone', 'sandstone'], 'field': 'Wong', 'state': 'Run'}\n"
          ]
        }
      ]
    },
    {
      "cell_type": "markdown",
      "source": [
        "fromkeys method"
      ],
      "metadata": {
        "id": "eCRDrBdSkwoO"
      }
    },
    {
      "cell_type": "code",
      "source": [
        "hobbies = {\n",
        "    \"fav_book\": \"no idea\",\n",
        "    \"fav_movie\": \"no idea\",\n",
        "    \"fav_sports\": \"no idea\"\n",
        "}\n",
        "print(hobbies)"
      ],
      "metadata": {
        "colab": {
          "base_uri": "https://localhost:8080/"
        },
        "id": "Yr1QcnR1kwXJ",
        "outputId": "c9d7952a-8fdf-4ae1-d9be-5219adba41ab"
      },
      "execution_count": 19,
      "outputs": [
        {
          "output_type": "stream",
          "name": "stdout",
          "text": [
            "{'fav_book': 'no idea', 'fav_movie': 'no idea', 'fav_sports': 'basketball'}\n"
          ]
        }
      ]
    },
    {
      "cell_type": "code",
      "source": [
        "new_hobbies = dict.fromkeys([\"fav_book\", \"fav_movie\", \"fav_sports\", \"fav_tv\", \"fav_food\"],\"no idea\")\n",
        "print(new_hobbies)"
      ],
      "metadata": {
        "colab": {
          "base_uri": "https://localhost:8080/"
        },
        "id": "EJr8PNOgml-o",
        "outputId": "02137892-83f7-4b58-a4ea-65d443008079"
      },
      "execution_count": 20,
      "outputs": [
        {
          "output_type": "stream",
          "name": "stdout",
          "text": [
            "{'fav_book': 'no idea', 'fav_movie': 'no idea', 'fav_sports': 'no idea', 'fav_tv': 'no idea', 'fav_food': 'no idea'}\n"
          ]
        }
      ]
    },
    {
      "cell_type": "code",
      "source": [
        "nat = {\n",
        "    1: \"natural number\",\n",
        "    2: \"natural number\",\n",
        "    3: \"natural number\",\n",
        "    4: \"natural number\"\n",
        "}\n",
        "print(nat)"
      ],
      "metadata": {
        "colab": {
          "base_uri": "https://localhost:8080/"
        },
        "id": "w5gu-1V-pFGi",
        "outputId": "fc8e644f-c41e-438f-f6ab-85c1e4acce75"
      },
      "execution_count": 21,
      "outputs": [
        {
          "output_type": "stream",
          "name": "stdout",
          "text": [
            "{1: 'natural number', 2: 'natural number', 3: 'natural number', 4: 'natural number'}\n"
          ]
        }
      ]
    },
    {
      "cell_type": "code",
      "source": [
        "nat_new = dict.fromkeys(range(1,5),'natural number')\n",
        "print(nat_new)"
      ],
      "metadata": {
        "colab": {
          "base_uri": "https://localhost:8080/"
        },
        "id": "sHYO7YgmpSK5",
        "outputId": "73027dd6-888d-4db0-b71d-b12e35edd77b"
      },
      "execution_count": 22,
      "outputs": [
        {
          "output_type": "stream",
          "name": "stdout",
          "text": [
            "{1: 'natural number', 2: 'natural number', 3: 'natural number', 4: 'natural number'}\n"
          ]
        }
      ]
    },
    {
      "cell_type": "code",
      "source": [
        "new_hobbies = dict.fromkeys((\"fav_book\", \"fav_movie\", \"fav_sports\", \"fav_tv\", \"fav_food\"),[\"no idea\",\"lol\"])\n",
        "print(new_hobbies)"
      ],
      "metadata": {
        "colab": {
          "base_uri": "https://localhost:8080/"
        },
        "id": "mgGS2eyOpcyv",
        "outputId": "b137b4b8-b788-4b08-dcda-8f965fdb26d7"
      },
      "execution_count": 23,
      "outputs": [
        {
          "output_type": "stream",
          "name": "stdout",
          "text": [
            "{'fav_book': ['no idea', 'lol'], 'fav_movie': ['no idea', 'lol'], 'fav_sports': ['no idea', 'lol'], 'fav_tv': ['no idea', 'lol'], 'fav_food': ['no idea', 'lol']}\n"
          ]
        }
      ]
    },
    {
      "cell_type": "markdown",
      "source": [
        "get method"
      ],
      "metadata": {
        "id": "4QeeINhfqALW"
      }
    },
    {
      "cell_type": "code",
      "source": [
        "hobbies[\"fav_book\"]"
      ],
      "metadata": {
        "colab": {
          "base_uri": "https://localhost:8080/",
          "height": 35
        },
        "id": "Aa5QWxNyp-Hf",
        "outputId": "1ebc0888-1132-4cbe-ad5a-0ee794be047d"
      },
      "execution_count": 24,
      "outputs": [
        {
          "output_type": "execute_result",
          "data": {
            "application/vnd.google.colaboratory.intrinsic+json": {
              "type": "string"
            },
            "text/plain": [
              "'no idea'"
            ]
          },
          "metadata": {},
          "execution_count": 24
        }
      ]
    },
    {
      "cell_type": "code",
      "source": [
        "hobbies.get(\"fav_netflix\")"
      ],
      "metadata": {
        "id": "Xtxwj1vKqNE7"
      },
      "execution_count": 25,
      "outputs": []
    },
    {
      "cell_type": "code",
      "source": [
        "print(hobbies.get(\"fav_netflix\",\"This key is not present\"))"
      ],
      "metadata": {
        "colab": {
          "base_uri": "https://localhost:8080/"
        },
        "id": "L3NMN7dJqV26",
        "outputId": "42550336-05d8-47c0-bc15-5a7c5448b152"
      },
      "execution_count": 26,
      "outputs": [
        {
          "output_type": "stream",
          "name": "stdout",
          "text": [
            "This key is not present\n"
          ]
        }
      ]
    },
    {
      "cell_type": "markdown",
      "source": [
        "Clear method"
      ],
      "metadata": {
        "id": "GkE6JHyvqtJX"
      }
    },
    {
      "cell_type": "code",
      "source": [
        "hobbies.clear()\n",
        "print(hobbies)"
      ],
      "metadata": {
        "colab": {
          "base_uri": "https://localhost:8080/"
        },
        "id": "Y2olyTy1qqAg",
        "outputId": "2090c3f5-1716-4054-a1ab-d66b91d4d560"
      },
      "execution_count": 27,
      "outputs": [
        {
          "output_type": "stream",
          "name": "stdout",
          "text": [
            "{}\n"
          ]
        }
      ]
    }
  ]
}