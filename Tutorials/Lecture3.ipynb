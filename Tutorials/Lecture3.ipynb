{
  "nbformat": 4,
  "nbformat_minor": 0,
  "metadata": {
    "colab": {
      "name": "Lecture3.ipynb",
      "provenance": []
    },
    "kernelspec": {
      "name": "python3",
      "display_name": "Python 3"
    },
    "language_info": {
      "name": "python"
    }
  },
  "cells": [
    {
      "cell_type": "markdown",
      "source": [
        "Inputs"
      ],
      "metadata": {
        "id": "x6nh901aBzdQ"
      }
    },
    {
      "cell_type": "code",
      "execution_count": null,
      "metadata": {
        "colab": {
          "base_uri": "https://localhost:8080/",
          "height": 53
        },
        "id": "gO-heckjAnyw",
        "outputId": "332324c7-4086-40ff-d834-75f62b43b73c"
      },
      "outputs": [
        {
          "name": "stdout",
          "output_type": "stream",
          "text": [
            "What do yoyu do?Student\n"
          ]
        },
        {
          "output_type": "execute_result",
          "data": {
            "application/vnd.google.colaboratory.intrinsic+json": {
              "type": "string"
            },
            "text/plain": [
              "'Student'"
            ]
          },
          "metadata": {},
          "execution_count": 1
        }
      ],
      "source": [
        "input(\"What do you do?\")"
      ]
    },
    {
      "cell_type": "code",
      "source": [
        "name = input(\"What is your name? \\n\")"
      ],
      "metadata": {
        "colab": {
          "base_uri": "https://localhost:8080/"
        },
        "id": "DigKIDXeA16C",
        "outputId": "2345455d-1c22-42da-cfa1-9a041db726af"
      },
      "execution_count": null,
      "outputs": [
        {
          "name": "stdout",
          "output_type": "stream",
          "text": [
            "What is your name? \n",
            "WRL\n"
          ]
        }
      ]
    },
    {
      "cell_type": "code",
      "source": [
        "print(f\"Hi {name}! Welcome back to Ipoh\")"
      ],
      "metadata": {
        "colab": {
          "base_uri": "https://localhost:8080/"
        },
        "id": "Bx0LVSNwBCos",
        "outputId": "09305787-7de0-4315-82f5-64b000b3b6a4"
      },
      "execution_count": null,
      "outputs": [
        {
          "output_type": "stream",
          "name": "stdout",
          "text": [
            "Hi WRL! Welcome back to Ipoh\n"
          ]
        }
      ]
    },
    {
      "cell_type": "markdown",
      "source": [
        "Multiple Inputs"
      ],
      "metadata": {
        "id": "SpFmVXGDBwtx"
      }
    },
    {
      "cell_type": "code",
      "source": [
        "input(\"What is your major and which subject do you like the most?\\n\").split(\",\")"
      ],
      "metadata": {
        "colab": {
          "base_uri": "https://localhost:8080/"
        },
        "id": "0K08BGWSBK5x",
        "outputId": "b53b4905-9d4e-474e-897a-4b497bb1c995"
      },
      "execution_count": null,
      "outputs": [
        {
          "name": "stdout",
          "output_type": "stream",
          "text": [
            "What is your major and which subject do you like the most?\n",
            "Petroleum, maths\n"
          ]
        },
        {
          "output_type": "execute_result",
          "data": {
            "text/plain": [
              "['Petroleum', ' maths']"
            ]
          },
          "metadata": {},
          "execution_count": 6
        }
      ]
    },
    {
      "cell_type": "code",
      "source": [
        "quest = input(\"Do you like memes?\\n\")"
      ],
      "metadata": {
        "colab": {
          "base_uri": "https://localhost:8080/"
        },
        "id": "5YDqy0gfCCgu",
        "outputId": "27925b84-404f-428a-a621-127175c5e88d"
      },
      "execution_count": null,
      "outputs": [
        {
          "name": "stdout",
          "output_type": "stream",
          "text": [
            "Do you like memes?\n",
            "Yes, I like memes\n"
          ]
        }
      ]
    },
    {
      "cell_type": "code",
      "source": [
        "print(f\"{quest}\")"
      ],
      "metadata": {
        "colab": {
          "base_uri": "https://localhost:8080/"
        },
        "id": "_U2RKRJbC-QQ",
        "outputId": "d4140dba-cdd5-4bb5-a544-f41fc4b61b24"
      },
      "execution_count": null,
      "outputs": [
        {
          "output_type": "stream",
          "name": "stdout",
          "text": [
            "Yes, I like memes\n"
          ]
        }
      ]
    },
    {
      "cell_type": "markdown",
      "source": [
        "String Indexing"
      ],
      "metadata": {
        "id": "C_JqISnbDj5B"
      }
    },
    {
      "cell_type": "code",
      "source": [
        "var = \"Reservoir\"\n",
        "var[0]\n",
        "var[8]"
      ],
      "metadata": {
        "colab": {
          "base_uri": "https://localhost:8080/",
          "height": 35
        },
        "id": "7e2ma7YCDJEv",
        "outputId": "007f5aa5-b988-430b-c388-660e8e98e74f"
      },
      "execution_count": null,
      "outputs": [
        {
          "output_type": "execute_result",
          "data": {
            "application/vnd.google.colaboratory.intrinsic+json": {
              "type": "string"
            },
            "text/plain": [
              "'r'"
            ]
          },
          "metadata": {},
          "execution_count": 12
        }
      ]
    },
    {
      "cell_type": "code",
      "source": [
        "len(var)"
      ],
      "metadata": {
        "colab": {
          "base_uri": "https://localhost:8080/"
        },
        "id": "UBdAomORDruu",
        "outputId": "3987b414-80ac-4fab-bc80-d27e4dd8e628"
      },
      "execution_count": null,
      "outputs": [
        {
          "output_type": "execute_result",
          "data": {
            "text/plain": [
              "9"
            ]
          },
          "metadata": {},
          "execution_count": 13
        }
      ]
    },
    {
      "cell_type": "markdown",
      "source": [
        "String Slicing/Reverse"
      ],
      "metadata": {
        "id": "C7DY7OQLEFah"
      }
    },
    {
      "cell_type": "code",
      "source": [
        "var[7:9]\n",
        "var[:3]\n",
        "var[0:4:2]\n",
        "var[7::-1]"
      ],
      "metadata": {
        "colab": {
          "base_uri": "https://localhost:8080/",
          "height": 35
        },
        "id": "9p0Uu9nuD2qM",
        "outputId": "c533cdde-cfc9-49a7-953f-c026f1c6f002"
      },
      "execution_count": null,
      "outputs": [
        {
          "output_type": "execute_result",
          "data": {
            "application/vnd.google.colaboratory.intrinsic+json": {
              "type": "string"
            },
            "text/plain": [
              "'iovreseR'"
            ]
          },
          "metadata": {},
          "execution_count": 20
        }
      ]
    },
    {
      "cell_type": "code",
      "source": [
        "age = input(\"What is your age?\\n\")\n",
        "print(f\"Reverse of my age is {age[::-1]}\")"
      ],
      "metadata": {
        "colab": {
          "base_uri": "https://localhost:8080/"
        },
        "id": "XW7Y3zvkEOps",
        "outputId": "4c243e5d-9bc7-4ec6-9603-2888744dbcac"
      },
      "execution_count": null,
      "outputs": [
        {
          "output_type": "stream",
          "name": "stdout",
          "text": [
            "What is your age?\n",
            "31\n",
            "Reverse of my age is 13\n"
          ]
        }
      ]
    }
  ]
}