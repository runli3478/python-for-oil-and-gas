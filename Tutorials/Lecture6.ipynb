{
  "nbformat": 4,
  "nbformat_minor": 0,
  "metadata": {
    "colab": {
      "name": "Lecture6.ipynb",
      "provenance": []
    },
    "kernelspec": {
      "name": "python3",
      "display_name": "Python 3"
    },
    "language_info": {
      "name": "python"
    }
  },
  "cells": [
    {
      "cell_type": "markdown",
      "source": [
        "Function"
      ],
      "metadata": {
        "id": "8EmF8gY-v9vT"
      }
    },
    {
      "cell_type": "code",
      "execution_count": 1,
      "metadata": {
        "colab": {
          "base_uri": "https://localhost:8080/",
          "height": 35
        },
        "id": "ysyKQz0dvk3v",
        "outputId": "3c420280-8250-415c-f6c0-3aa80eb03a2c"
      },
      "outputs": [
        {
          "output_type": "execute_result",
          "data": {
            "application/vnd.google.colaboratory.intrinsic+json": {
              "type": "string"
            },
            "text/plain": [
              "'abcdefghij'"
            ]
          },
          "metadata": {},
          "execution_count": 1
        }
      ],
      "source": [
        "def statement():\n",
        "  return 'abcdefghij'\n",
        "\n",
        "statement()"
      ]
    },
    {
      "cell_type": "code",
      "source": [
        "def mul(a,b):\n",
        "  return a*b\n",
        "mul(5,6)"
      ],
      "metadata": {
        "colab": {
          "base_uri": "https://localhost:8080/"
        },
        "id": "a16UdhnUxvdZ",
        "outputId": "d3e28cde-0ef8-461f-ae7f-9214747ad2f7"
      },
      "execution_count": 5,
      "outputs": [
        {
          "output_type": "execute_result",
          "data": {
            "text/plain": [
              "30"
            ]
          },
          "metadata": {},
          "execution_count": 5
        }
      ]
    },
    {
      "cell_type": "code",
      "source": [
        "def sum(a,b,c):\n",
        "  return a+b+c\n",
        "sum(1,2,3)"
      ],
      "metadata": {
        "colab": {
          "base_uri": "https://localhost:8080/"
        },
        "id": "EAa_-YrSxzeN",
        "outputId": "57f45d59-3239-4155-8de4-f9afcdc903d5"
      },
      "execution_count": 7,
      "outputs": [
        {
          "output_type": "execute_result",
          "data": {
            "text/plain": [
              "6"
            ]
          },
          "metadata": {},
          "execution_count": 7
        }
      ]
    },
    {
      "cell_type": "code",
      "source": [
        "sat_w = float(input(\"Enter the water saturation value: \\n\"))\n",
        "\n",
        "def hc_sat(sat_w):\n",
        "  return f'Hydrocaron saturation is {1-sat_w}'\n",
        "hc_sat(sat_w)"
      ],
      "metadata": {
        "colab": {
          "base_uri": "https://localhost:8080/",
          "height": 70
        },
        "id": "LvAJ2yNdyBEH",
        "outputId": "bb5268e7-e924-4a3e-bb8c-a38ac62d530c"
      },
      "execution_count": 9,
      "outputs": [
        {
          "name": "stdout",
          "output_type": "stream",
          "text": [
            "Enter the water saturation value: \n",
            "0.2\n"
          ]
        },
        {
          "output_type": "execute_result",
          "data": {
            "application/vnd.google.colaboratory.intrinsic+json": {
              "type": "string"
            },
            "text/plain": [
              "'Hydrocaron saturation is 0.8'"
            ]
          },
          "metadata": {},
          "execution_count": 9
        }
      ]
    },
    {
      "cell_type": "code",
      "source": [
        "por = float(input(\"Enter a pososit value: \"))\n",
        "\n",
        "def por_checker(por):\n",
        "  if por <= 1:\n",
        "    print(\"Correct\")\n",
        "  else:\n",
        "    print(\"Incorrect\")\n",
        "  por_checker(por)"
      ],
      "metadata": {
        "id": "3-9Z2TPNy8Vb"
      },
      "execution_count": null,
      "outputs": []
    },
    {
      "cell_type": "code",
      "source": [
        "k = float(input(\"Enter the permeability\\n\"))\n",
        "u = float(input(\"Enter the viscosity\\n\"))\n",
        "p = float(input(\"Enter the pressure changes\\n\"))\n",
        "l = float(input(\"Enter the length\\n\"))\n",
        "a = float(input(\"Enter the area\\n\"))\n",
        "\n",
        "def flow_rate():\n",
        "  q = (k*a*p)/(u*l)\n",
        "  q = (q)\n",
        "  return f\"The flow rate is {q}\"\n",
        "flow_rate()"
      ],
      "metadata": {
        "colab": {
          "base_uri": "https://localhost:8080/",
          "height": 209
        },
        "id": "fSWYh5aSzq2Y",
        "outputId": "a07273cf-5572-44f5-8fb6-3abb8c371718"
      },
      "execution_count": 22,
      "outputs": [
        {
          "name": "stdout",
          "output_type": "stream",
          "text": [
            "Enter the permeability\n",
            "2\n",
            "Enter the viscosity\n",
            "3\n",
            "Enter the pressure changes\n",
            "4\n",
            "Enter the length\n",
            "5\n",
            "Enter the area\n",
            "6\n"
          ]
        },
        {
          "output_type": "execute_result",
          "data": {
            "application/vnd.google.colaboratory.intrinsic+json": {
              "type": "string"
            },
            "text/plain": [
              "'The flow rate is 3'"
            ]
          },
          "metadata": {},
          "execution_count": 22
        }
      ]
    },
    {
      "cell_type": "code",
      "source": [
        "k1,k2,k3=input('Enter the three permeabilities values: ').split(\",\")\n",
        "\n",
        "k1 = int(k1)\n",
        "k2 = int(k2)\n",
        "k3 = int(k3)\n",
        "\n",
        "def higher_perm(a,b):\n",
        "  if a>b:\n",
        "    return a\n",
        "  else:\n",
        "    return b\n",
        "def max_perm(x,y,z):\n",
        "  abc = higher_perm(x,y)\n",
        "  return higher_perm(abc, z)\n",
        "max_perm(k1,k2,k3)"
      ],
      "metadata": {
        "id": "KJ94--7F4NmZ"
      },
      "execution_count": null,
      "outputs": []
    },
    {
      "cell_type": "markdown",
      "source": [
        "Default parameters"
      ],
      "metadata": {
        "id": "d_tbyGw1ChZW"
      }
    },
    {
      "cell_type": "code",
      "source": [
        "def reser_info(phi,k,h=50):\n",
        "  print(f'Reservoir average porosity is {phi}')\n",
        "  print(f'Reservoir average permeability is {k}')\n",
        "  print(f'Reservoir gross pay zone is {h}')\n",
        "\n",
        "reser_info(0.27,30,80)"
      ],
      "metadata": {
        "colab": {
          "base_uri": "https://localhost:8080/"
        },
        "id": "fc4YePY5CjMh",
        "outputId": "8588c246-a19c-4367-c371-7f56b2f71b9e"
      },
      "execution_count": 23,
      "outputs": [
        {
          "output_type": "stream",
          "name": "stdout",
          "text": [
            "Reservoir average porosity is 0.27\n",
            "Reservoir average permeability is 30\n",
            "Reservoir gross pay zone is 80\n"
          ]
        }
      ]
    }
  ]
}