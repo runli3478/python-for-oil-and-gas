{
  "nbformat": 4,
  "nbformat_minor": 0,
  "metadata": {
    "colab": {
      "name": "Lecture13.ipynb",
      "provenance": []
    },
    "kernelspec": {
      "name": "python3",
      "display_name": "Python 3"
    },
    "language_info": {
      "name": "python"
    }
  },
  "cells": [
    {
      "cell_type": "markdown",
      "source": [
        "*args (star operator)"
      ],
      "metadata": {
        "id": "vdxAZpFNhHeV"
      }
    },
    {
      "cell_type": "code",
      "execution_count": null,
      "metadata": {
        "id": "OEdP2lNLhAVv"
      },
      "outputs": [],
      "source": [
        "def add(a,b):\n",
        "  return a+b"
      ]
    },
    {
      "cell_type": "code",
      "source": [
        "def func(*args):\n",
        "  return args"
      ],
      "metadata": {
        "id": "o0P9uepliHxU"
      },
      "execution_count": null,
      "outputs": []
    },
    {
      "cell_type": "code",
      "source": [
        "type(func(1,2,3))"
      ],
      "metadata": {
        "colab": {
          "base_uri": "https://localhost:8080/"
        },
        "id": "MDpJz6V8hsbG",
        "outputId": "593458f6-ed77-415b-c902-5013d410d8e2"
      },
      "execution_count": null,
      "outputs": [
        {
          "output_type": "execute_result",
          "data": {
            "text/plain": [
              "tuple"
            ]
          },
          "metadata": {},
          "execution_count": 9
        }
      ]
    },
    {
      "cell_type": "code",
      "source": [
        "func(45,78,[1,2,3])"
      ],
      "metadata": {
        "colab": {
          "base_uri": "https://localhost:8080/"
        },
        "id": "p2qv5dHMhwcf",
        "outputId": "892e96ab-5051-4349-ecb4-2846c6bfc8f4"
      },
      "execution_count": null,
      "outputs": [
        {
          "output_type": "execute_result",
          "data": {
            "text/plain": [
              "(45, 78, [1, 2, 3])"
            ]
          },
          "metadata": {},
          "execution_count": 10
        }
      ]
    },
    {
      "cell_type": "code",
      "source": [
        "def addition(*args):\n",
        "  total = 0\n",
        "  for i in args:\n",
        "    total = total + i\n",
        "  return total\n",
        "addition(2,3)"
      ],
      "metadata": {
        "colab": {
          "base_uri": "https://localhost:8080/"
        },
        "id": "bDH-g09EhRGs",
        "outputId": "f750f0ce-243b-49f8-8908-aecf696b2a78"
      },
      "execution_count": null,
      "outputs": [
        {
          "output_type": "execute_result",
          "data": {
            "text/plain": [
              "5"
            ]
          },
          "metadata": {},
          "execution_count": 16
        }
      ]
    },
    {
      "cell_type": "code",
      "source": [
        "addition(1+2j,3+5j)"
      ],
      "metadata": {
        "colab": {
          "base_uri": "https://localhost:8080/"
        },
        "id": "-90udh2xigq8",
        "outputId": "8c979fd7-e567-446d-c916-ef7877855f57"
      },
      "execution_count": null,
      "outputs": [
        {
          "output_type": "execute_result",
          "data": {
            "text/plain": [
              "(4+7j)"
            ]
          },
          "metadata": {},
          "execution_count": 14
        }
      ]
    },
    {
      "cell_type": "code",
      "source": [
        "def mul(*args):\n",
        "  multiply = 1\n",
        "  for i in args:\n",
        "    multiply = multiply*i\n",
        "  return multiply\n",
        "\n",
        "mul(4,3)"
      ],
      "metadata": {
        "colab": {
          "base_uri": "https://localhost:8080/"
        },
        "id": "pzja41XPimhz",
        "outputId": "bc764d99-cc22-480d-f32c-35d8f5fe3d61"
      },
      "execution_count": null,
      "outputs": [
        {
          "output_type": "execute_result",
          "data": {
            "text/plain": [
              "12"
            ]
          },
          "metadata": {},
          "execution_count": 15
        }
      ]
    },
    {
      "cell_type": "markdown",
      "source": [
        "Normal parameters with args"
      ],
      "metadata": {
        "id": "1q6R3uv8yE0h"
      }
    },
    {
      "cell_type": "code",
      "source": [
        "def func(a, b, c, *args):\n",
        "  print(a)\n",
        "\n",
        "  print(args)\n",
        "  print(b)\n",
        "  print(c)\n",
        "func([1,2,3],45,79,78,[1,2,3])"
      ],
      "metadata": {
        "colab": {
          "base_uri": "https://localhost:8080/"
        },
        "id": "yQFGoBkFpQ0O",
        "outputId": "7a5b6071-0f6e-4a5a-a874-41d2c00aa47c"
      },
      "execution_count": null,
      "outputs": [
        {
          "output_type": "stream",
          "name": "stdout",
          "text": [
            "[1, 2, 3]\n",
            "(78, [1, 2, 3])\n",
            "45\n",
            "79\n"
          ]
        }
      ]
    },
    {
      "cell_type": "code",
      "source": [
        "func(12,14,16)"
      ],
      "metadata": {
        "colab": {
          "base_uri": "https://localhost:8080/"
        },
        "id": "q5JY6tQVvJ7a",
        "outputId": "9ad8b318-4e65-4a12-bad4-62d3242e73b3"
      },
      "execution_count": null,
      "outputs": [
        {
          "output_type": "stream",
          "name": "stdout",
          "text": [
            "12\n",
            "()\n",
            "14\n",
            "16\n"
          ]
        }
      ]
    },
    {
      "cell_type": "code",
      "source": [
        "# if *args on x-position, error will occur since it will recognize everything as arg\n",
        "# and leaving 'a' empty(error)\n",
        "def func(*args,a):\n",
        "  print(a)\n",
        "  print(args)\n",
        "func(12,45,49)"
      ],
      "metadata": {
        "colab": {
          "base_uri": "https://localhost:8080/"
        },
        "id": "nYK8imHYyRg9",
        "outputId": "89d0920a-b164-4b2e-908e-3a5402ea023e"
      },
      "execution_count": null,
      "outputs": [
        {
          "output_type": "stream",
          "name": "stdout",
          "text": [
            "12\n",
            "(45, 49)\n"
          ]
        }
      ]
    },
    {
      "cell_type": "markdown",
      "source": [
        "*args as argument"
      ],
      "metadata": {
        "id": "9C9QVPzwzsl4"
      }
    },
    {
      "cell_type": "code",
      "source": [
        "def multi(*args):\n",
        "  print(args)\n",
        "  mul = 1\n",
        "  for i in args:\n",
        "    mul = mul*i\n",
        "  return mul\n",
        "multi(5,6,7)"
      ],
      "metadata": {
        "colab": {
          "base_uri": "https://localhost:8080/"
        },
        "id": "rb3m11DCzCNr",
        "outputId": "aad4d1da-6705-493d-88ba-9c695d3dcf81"
      },
      "execution_count": 2,
      "outputs": [
        {
          "output_type": "stream",
          "name": "stdout",
          "text": [
            "(5, 6, 7)\n"
          ]
        },
        {
          "output_type": "execute_result",
          "data": {
            "text/plain": [
              "210"
            ]
          },
          "metadata": {},
          "execution_count": 2
        }
      ]
    },
    {
      "cell_type": "code",
      "source": [
        "list_1 = [7,8,9]\n",
        "multi(*list_1)"
      ],
      "metadata": {
        "id": "gA9Uw0ld3U-R",
        "colab": {
          "base_uri": "https://localhost:8080/"
        },
        "outputId": "b5c4ae13-7f44-40f5-bec1-aa0bbe3d3ff0"
      },
      "execution_count": 4,
      "outputs": [
        {
          "output_type": "stream",
          "name": "stdout",
          "text": [
            "(7, 8, 9)\n"
          ]
        },
        {
          "output_type": "execute_result",
          "data": {
            "text/plain": [
              "504"
            ]
          },
          "metadata": {},
          "execution_count": 4
        }
      ]
    },
    {
      "cell_type": "code",
      "source": [
        " "
      ],
      "metadata": {
        "id": "Wv7L8Y9uifyM"
      },
      "execution_count": null,
      "outputs": []
    }
  ]
}