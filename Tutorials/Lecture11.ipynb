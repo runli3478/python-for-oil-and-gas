{
  "nbformat": 4,
  "nbformat_minor": 0,
  "metadata": {
    "colab": {
      "name": "Lecture11.ipynb",
      "provenance": []
    },
    "kernelspec": {
      "name": "python3",
      "display_name": "Python 3"
    },
    "language_info": {
      "name": "python"
    }
  },
  "cells": [
    {
      "cell_type": "markdown",
      "source": [
        "Assignment 1"
      ],
      "metadata": {
        "id": "ftOXvF59s5AK"
      }
    },
    {
      "cell_type": "code",
      "execution_count": 2,
      "metadata": {
        "id": "u49jHYX5fuT3",
        "colab": {
          "base_uri": "https://localhost:8080/"
        },
        "outputId": "21a379c5-2e44-4b0f-e811-fa8874f2bf73"
      },
      "outputs": [
        {
          "output_type": "stream",
          "name": "stdout",
          "text": [
            "{'water_cut': 60, 'API_oil': 30, 'completion_type': 'cased hole', 'zones': ['zone 1', 'zone 2', 'zone 3']}\n"
          ]
        }
      ],
      "source": [
        "prod_data_1 = {\"water_cut\": 60}\n",
        "prod_data_2 = {\n",
        "    \"API_oil\": 30,\n",
        "    \"completion_type\": \"cased hole\",\n",
        "    \"zones\": [\"zone 1\", \"zone 2\", \"zone 3\"]\n",
        "}\n",
        "prod_data_1.update(prod_data_2)\n",
        "print(prod_data_1)"
      ]
    },
    {
      "cell_type": "markdown",
      "source": [
        "Assignment 2"
      ],
      "metadata": {
        "id": "_sj-nd9bCxuW"
      }
    },
    {
      "cell_type": "code",
      "source": [
        "dict_1 = {}\n",
        "w_c = input(\"Please enter water cut: \\n\")\n",
        "API_oil = input(\"Please enter the API of oil: \\n\")\n",
        "completion_type = input(\"Please enter the type of completion: \\n\")\n",
        "zones = input(\"Please enter the zone: \\n\").split(\", \")\n",
        "\n",
        "dict_1[\"w_c\"] = w_c\n",
        "dict_1[\"API_oil\"] = API_oil\n",
        "dict_1[\"completion_type\"] = completion_type\n",
        "dict_1[\"zones\"] = zones\n",
        "print(dict_1)"
      ],
      "metadata": {
        "colab": {
          "base_uri": "https://localhost:8080/"
        },
        "id": "V48uloTssr0t",
        "outputId": "77a9d305-b2b4-450b-91a0-14c8382861f9"
      },
      "execution_count": 5,
      "outputs": [
        {
          "output_type": "stream",
          "name": "stdout",
          "text": [
            "Please enter water cut: \n",
            "60\n",
            "Please enter the API of oil: \n",
            "30\n",
            "Please enter the type of completion: \n",
            "cased hole\n",
            "Please enter the zone: \n",
            "zone 1, zone 2, zone 3\n",
            "{'w_c': '60', 'API_oil': '30', 'completion_type': 'cased hole', 'zones': ['zone 1', 'zone 2', 'zone 3']}\n"
          ]
        }
      ]
    }
  ]
}