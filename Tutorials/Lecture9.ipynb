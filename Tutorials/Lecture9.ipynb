{
  "nbformat": 4,
  "nbformat_minor": 0,
  "metadata": {
    "colab": {
      "name": "Lecture9.ipynb",
      "provenance": []
    },
    "kernelspec": {
      "name": "python3",
      "display_name": "Python 3"
    },
    "language_info": {
      "name": "python"
    }
  },
  "cells": [
    {
      "cell_type": "markdown",
      "source": [
        "Tuples"
      ],
      "metadata": {
        "id": "MTqmDiZLriEv"
      }
    },
    {
      "cell_type": "code",
      "execution_count": 1,
      "metadata": {
        "colab": {
          "base_uri": "https://localhost:8080/"
        },
        "id": "bEZ0wtDyrf0C",
        "outputId": "926dfa7d-42c1-44f9-8e45-28806d11848e"
      },
      "outputs": [
        {
          "output_type": "execute_result",
          "data": {
            "text/plain": [
              "tuple"
            ]
          },
          "metadata": {},
          "execution_count": 1
        }
      ],
      "source": [
        "tuple1 = (1,2,\"Python\", 0.446,\"WRL\")\n",
        "type(tuple1)"
      ]
    },
    {
      "cell_type": "code",
      "source": [
        "tuple2 = 1,2,\"Python\", 0.446,\"WRL\"\n",
        "type(tuple2)"
      ],
      "metadata": {
        "colab": {
          "base_uri": "https://localhost:8080/"
        },
        "id": "WAJjF2uUrqxM",
        "outputId": "9c95b2ed-d043-4362-b9e2-cb3138b46f45"
      },
      "execution_count": 2,
      "outputs": [
        {
          "output_type": "execute_result",
          "data": {
            "text/plain": [
              "tuple"
            ]
          },
          "metadata": {},
          "execution_count": 2
        }
      ]
    },
    {
      "cell_type": "markdown",
      "source": [
        "Tuple Unpacking"
      ],
      "metadata": {
        "id": "JND2CiWCryq8"
      }
    },
    {
      "cell_type": "code",
      "source": [
        "tuple2 = 1,2,\"Python\", 0.446,\"WRL\"\n",
        "\n",
        "el1,el2,el3,el4,el5 = tuple2\n",
        "print(el1)\n",
        "print(el3)"
      ],
      "metadata": {
        "colab": {
          "base_uri": "https://localhost:8080/"
        },
        "id": "ty-GMIqmrww8",
        "outputId": "49f3a541-9bed-4c46-dba0-256942bb3bc0"
      },
      "execution_count": 3,
      "outputs": [
        {
          "output_type": "stream",
          "name": "stdout",
          "text": [
            "1\n",
            "Python\n"
          ]
        }
      ]
    },
    {
      "cell_type": "code",
      "source": [
        "list1 = [\"hey\",\"python\",2,5]\n",
        "a,b,c,d = list1\n",
        "print(a)\n",
        "print(d)"
      ],
      "metadata": {
        "colab": {
          "base_uri": "https://localhost:8080/"
        },
        "id": "n65p4IC7sEZV",
        "outputId": "a5bf95ff-033f-481d-afbe-3f5b2d4dcb59"
      },
      "execution_count": 5,
      "outputs": [
        {
          "output_type": "stream",
          "name": "stdout",
          "text": [
            "hey\n",
            "5\n"
          ]
        }
      ]
    },
    {
      "cell_type": "markdown",
      "source": [
        "List inside tuple"
      ],
      "metadata": {
        "id": "3VkR2U24sW-j"
      }
    },
    {
      "cell_type": "code",
      "source": [
        "random = 2,56,0.48,[47,10,\"WRL\"], 5+7j\n",
        "len(random)"
      ],
      "metadata": {
        "colab": {
          "base_uri": "https://localhost:8080/"
        },
        "id": "zgFjkr6usSqF",
        "outputId": "46359ea3-a6cf-4ce2-846b-2c2972e26145"
      },
      "execution_count": 6,
      "outputs": [
        {
          "output_type": "execute_result",
          "data": {
            "text/plain": [
              "5"
            ]
          },
          "metadata": {},
          "execution_count": 6
        }
      ]
    },
    {
      "cell_type": "code",
      "source": [
        "random[3]"
      ],
      "metadata": {
        "colab": {
          "base_uri": "https://localhost:8080/"
        },
        "id": "BJ7pPuhDsqDo",
        "outputId": "de54a307-53a7-43e0-ac97-15f990416810"
      },
      "execution_count": 7,
      "outputs": [
        {
          "output_type": "execute_result",
          "data": {
            "text/plain": [
              "[47, 10, 'WRL']"
            ]
          },
          "metadata": {},
          "execution_count": 7
        }
      ]
    },
    {
      "cell_type": "code",
      "source": [
        "random[2]"
      ],
      "metadata": {
        "colab": {
          "base_uri": "https://localhost:8080/"
        },
        "id": "VNp--KyGsuIy",
        "outputId": "90f20b78-0f46-422b-a18e-3697571e5435"
      },
      "execution_count": 8,
      "outputs": [
        {
          "output_type": "execute_result",
          "data": {
            "text/plain": [
              "0.48"
            ]
          },
          "metadata": {},
          "execution_count": 8
        }
      ]
    },
    {
      "cell_type": "code",
      "source": [
        "random[3].pop()"
      ],
      "metadata": {
        "colab": {
          "base_uri": "https://localhost:8080/",
          "height": 35
        },
        "id": "6llEbdRGszxp",
        "outputId": "3ad8f2b4-ff66-41d5-d582-d84b223b0686"
      },
      "execution_count": 10,
      "outputs": [
        {
          "output_type": "execute_result",
          "data": {
            "application/vnd.google.colaboratory.intrinsic+json": {
              "type": "string"
            },
            "text/plain": [
              "'WRL'"
            ]
          },
          "metadata": {},
          "execution_count": 10
        }
      ]
    },
    {
      "cell_type": "code",
      "source": [
        "print(random)"
      ],
      "metadata": {
        "colab": {
          "base_uri": "https://localhost:8080/"
        },
        "id": "LBGEi36-s5pn",
        "outputId": "3b88205f-6af1-4749-d838-329ea5d2eb37"
      },
      "execution_count": 11,
      "outputs": [
        {
          "output_type": "stream",
          "name": "stdout",
          "text": [
            "(2, 56, 0.48, [47, 10], (5+7j))\n"
          ]
        }
      ]
    },
    {
      "cell_type": "code",
      "source": [
        "random[3].append(\"LENGZAI\")"
      ],
      "metadata": {
        "id": "BQrZQzzxtAbu"
      },
      "execution_count": 12,
      "outputs": []
    },
    {
      "cell_type": "code",
      "source": [
        "print(random)"
      ],
      "metadata": {
        "colab": {
          "base_uri": "https://localhost:8080/"
        },
        "id": "ft4J9lTJtE4q",
        "outputId": "a29a0926-cd52-441d-ca36-1456da3d9bf1"
      },
      "execution_count": 13,
      "outputs": [
        {
          "output_type": "stream",
          "name": "stdout",
          "text": [
            "(2, 56, 0.48, [47, 10, 'LENGZAI'], (5+7j))\n"
          ]
        }
      ]
    },
    {
      "cell_type": "markdown",
      "source": [
        "Min, Max, Sum functions"
      ],
      "metadata": {
        "id": "MTva1yGPtJIY"
      }
    },
    {
      "cell_type": "code",
      "source": [
        "res_a = 0.2, 0.25, 0.55\n",
        "\n",
        "min(res_a)"
      ],
      "metadata": {
        "colab": {
          "base_uri": "https://localhost:8080/"
        },
        "id": "b1gr8HQOtGF8",
        "outputId": "6ec821d9-c514-4115-f88d-63d19a8bfeb8"
      },
      "execution_count": 14,
      "outputs": [
        {
          "output_type": "execute_result",
          "data": {
            "text/plain": [
              "0.2"
            ]
          },
          "metadata": {},
          "execution_count": 14
        }
      ]
    },
    {
      "cell_type": "code",
      "source": [
        "sum(res_a)"
      ],
      "metadata": {
        "id": "HfOxWwv7tZb1",
        "outputId": "ce620f6f-fd90-485d-8745-61ab293e50c7",
        "colab": {
          "base_uri": "https://localhost:8080/"
        }
      },
      "execution_count": 15,
      "outputs": [
        {
          "output_type": "execute_result",
          "data": {
            "text/plain": [
              "1.0"
            ]
          },
          "metadata": {},
          "execution_count": 15
        }
      ]
    }
  ]
}