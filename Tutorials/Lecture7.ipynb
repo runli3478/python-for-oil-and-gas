{
  "nbformat": 4,
  "nbformat_minor": 0,
  "metadata": {
    "colab": {
      "name": "Lecture7.ipynb",
      "provenance": []
    },
    "kernelspec": {
      "name": "python3",
      "display_name": "Python 3"
    },
    "language_info": {
      "name": "python"
    }
  },
  "cells": [
    {
      "cell_type": "markdown",
      "source": [
        "List indexing"
      ],
      "metadata": {
        "id": "a070AbZdFFz8"
      }
    },
    {
      "cell_type": "code",
      "execution_count": 2,
      "metadata": {
        "colab": {
          "base_uri": "https://localhost:8080/"
        },
        "id": "W_dLBv6fFCPV",
        "outputId": "754ed190-82ba-41c7-8c1a-15a1e62ef671"
      },
      "outputs": [
        {
          "output_type": "stream",
          "name": "stdout",
          "text": [
            "[2500, 12.55, 'WRL', True, (5+4j)]\n"
          ]
        }
      ],
      "source": [
        "list1 = [2500, 12.55, \"WRL\", True, (5+4j)]\n",
        "print(list1)"
      ]
    },
    {
      "cell_type": "code",
      "source": [
        "list1[0:2]"
      ],
      "metadata": {
        "colab": {
          "base_uri": "https://localhost:8080/"
        },
        "id": "pDhWHXNOGphp",
        "outputId": "adda33e8-150b-4083-8053-71e4ce2dd4e5"
      },
      "execution_count": 3,
      "outputs": [
        {
          "output_type": "execute_result",
          "data": {
            "text/plain": [
              "[2500, 12.55]"
            ]
          },
          "metadata": {},
          "execution_count": 3
        }
      ]
    },
    {
      "cell_type": "code",
      "source": [
        "list1[1:]"
      ],
      "metadata": {
        "colab": {
          "base_uri": "https://localhost:8080/"
        },
        "id": "9LEoNgP3G2YG",
        "outputId": "ee7c71bf-17b5-4d05-b98f-11e50212f938"
      },
      "execution_count": 6,
      "outputs": [
        {
          "output_type": "execute_result",
          "data": {
            "text/plain": [
              "[12.55, 'WRL', True, (5+4j)]"
            ]
          },
          "metadata": {},
          "execution_count": 6
        }
      ]
    },
    {
      "cell_type": "code",
      "source": [
        "list1[:3:2]"
      ],
      "metadata": {
        "colab": {
          "base_uri": "https://localhost:8080/"
        },
        "id": "_wxi0xtQG6pv",
        "outputId": "ae9d311f-f56c-4ca1-fc27-31474aafd067"
      },
      "execution_count": 7,
      "outputs": [
        {
          "output_type": "execute_result",
          "data": {
            "text/plain": [
              "[2500, 'WRL']"
            ]
          },
          "metadata": {},
          "execution_count": 7
        }
      ]
    },
    {
      "cell_type": "code",
      "source": [
        "list1[::-1]"
      ],
      "metadata": {
        "colab": {
          "base_uri": "https://localhost:8080/"
        },
        "id": "mpS7JEb4HBSu",
        "outputId": "85714da9-162b-46d3-e08f-581df92217a2"
      },
      "execution_count": 8,
      "outputs": [
        {
          "output_type": "execute_result",
          "data": {
            "text/plain": [
              "[(5+4j), True, 'WRL', 12.55, 2500]"
            ]
          },
          "metadata": {},
          "execution_count": 8
        }
      ]
    },
    {
      "cell_type": "markdown",
      "source": [
        "Update element list"
      ],
      "metadata": {
        "id": "5VwmJcPoHMMN"
      }
    },
    {
      "cell_type": "code",
      "source": [
        "list1[1] = 1234\n",
        "print(list1)"
      ],
      "metadata": {
        "colab": {
          "base_uri": "https://localhost:8080/"
        },
        "id": "RUp_T-OuHHM-",
        "outputId": "cb06fc9a-a4fc-443d-ee18-bb7525724bab"
      },
      "execution_count": 10,
      "outputs": [
        {
          "output_type": "stream",
          "name": "stdout",
          "text": [
            "[2500, 1234, 1234, True, (5+4j)]\n"
          ]
        }
      ]
    },
    {
      "cell_type": "markdown",
      "source": [
        "Adding Data into the list"
      ],
      "metadata": {
        "id": "PBXHpk2sHolI"
      }
    },
    {
      "cell_type": "code",
      "source": [
        "res_1 = [0.1,300,250]\n",
        "print(res_1)"
      ],
      "metadata": {
        "colab": {
          "base_uri": "https://localhost:8080/"
        },
        "id": "IZzlyLLBHWbI",
        "outputId": "1bd83d82-8db9-4378-d788-4d57d2f17863"
      },
      "execution_count": 11,
      "outputs": [
        {
          "output_type": "stream",
          "name": "stdout",
          "text": [
            "[0.1, 300, 250]\n"
          ]
        }
      ]
    },
    {
      "cell_type": "code",
      "source": [
        "res_1.insert(0, \"lmao\")\n",
        "print(res_1)"
      ],
      "metadata": {
        "colab": {
          "base_uri": "https://localhost:8080/"
        },
        "id": "oDU8ctf-H3SB",
        "outputId": "2c2e8335-c8b3-461b-bcdf-988eaaad0e62"
      },
      "execution_count": 13,
      "outputs": [
        {
          "output_type": "stream",
          "name": "stdout",
          "text": [
            "['lmao', 'lmao', 0.1, 300, 250]\n"
          ]
        }
      ]
    },
    {
      "cell_type": "code",
      "source": [
        "a = [1,2]\n",
        "a.append(3)\n",
        "print(a)"
      ],
      "metadata": {
        "colab": {
          "base_uri": "https://localhost:8080/"
        },
        "id": "mwjewg1kH-L4",
        "outputId": "dc189b2d-89b2-4751-8f43-87802f317e57"
      },
      "execution_count": 16,
      "outputs": [
        {
          "output_type": "stream",
          "name": "stdout",
          "text": [
            "[1, 2, 3]\n"
          ]
        }
      ]
    },
    {
      "cell_type": "code",
      "source": [
        "b = [1,2]\n",
        "c = [3,4]\n",
        "\n",
        "d = b + c\n",
        "print(d)"
      ],
      "metadata": {
        "colab": {
          "base_uri": "https://localhost:8080/"
        },
        "id": "bo5WtRRmIG0z",
        "outputId": "1963967e-1dc4-4967-ea86-6aae86b99e2a"
      },
      "execution_count": 17,
      "outputs": [
        {
          "output_type": "stream",
          "name": "stdout",
          "text": [
            "[1, 2, 3, 4]\n"
          ]
        }
      ]
    },
    {
      "cell_type": "markdown",
      "source": [
        "Extend"
      ],
      "metadata": {
        "id": "nzS2ocrnIhxO"
      }
    },
    {
      "cell_type": "code",
      "source": [
        "x = [5,6]\n",
        "y = [7,8]\n",
        "\n",
        "x.extend(y)\n",
        "print(x)"
      ],
      "metadata": {
        "colab": {
          "base_uri": "https://localhost:8080/"
        },
        "id": "9zMPNE5nIbwR",
        "outputId": "302d1e41-a0da-4863-a71b-843e08e2708c"
      },
      "execution_count": 18,
      "outputs": [
        {
          "output_type": "stream",
          "name": "stdout",
          "text": [
            "[5, 6, 7, 8]\n"
          ]
        }
      ]
    },
    {
      "cell_type": "markdown",
      "source": [
        "Assignment"
      ],
      "metadata": {
        "id": "h56Zd1qyJQgP"
      }
    },
    {
      "cell_type": "code",
      "source": [
        "first_name = input(\"What is your first name? \\n\")\n",
        "last_name = input(\"What is your last name? \\n\")\n",
        "age = input(\"What is your age? \\n\")\n",
        "hobby = input(\"Enter one of your hobby: \\n\")\n",
        "x = [first_name, last_name]\n",
        "y = [age, hobby]\n",
        "\n",
        "x.append(y)"
      ],
      "metadata": {
        "colab": {
          "base_uri": "https://localhost:8080/"
        },
        "id": "q0XkIdKhI5vW",
        "outputId": "ccbb87e3-295c-45d8-fd40-ebab6502afe9"
      },
      "execution_count": 19,
      "outputs": [
        {
          "name": "stdout",
          "output_type": "stream",
          "text": [
            "What is your first name? \n",
            "Run Li\n",
            "What is your last name? \n",
            "Wong\n",
            "What is your age? \n",
            "23\n",
            "Enter one of your hobby: \n",
            "Basketball\n"
          ]
        }
      ]
    },
    {
      "cell_type": "code",
      "source": [
        "print(x)"
      ],
      "metadata": {
        "colab": {
          "base_uri": "https://localhost:8080/"
        },
        "id": "FSIJN4-wbwRs",
        "outputId": "275b3a22-d872-4c43-ac1e-326c7a85cf5d"
      },
      "execution_count": 20,
      "outputs": [
        {
          "output_type": "stream",
          "name": "stdout",
          "text": [
            "['Run Li', 'Wong', ['23', 'Basketball']]\n"
          ]
        }
      ]
    },
    {
      "cell_type": "markdown",
      "source": [
        "Delete"
      ],
      "metadata": {
        "id": "3h9HUo7Jci9M"
      }
    },
    {
      "cell_type": "code",
      "source": [
        "den_inc = [\"Barite\", \"Hametite\", \"Bentonite\", \"Ilemite\"]\n",
        "\n",
        "del den_inc[2]\n",
        "print(den_inc)"
      ],
      "metadata": {
        "colab": {
          "base_uri": "https://localhost:8080/"
        },
        "id": "-ajQr-FDckHw",
        "outputId": "9b174d1f-a655-4b5c-af99-86d0e6a747c3"
      },
      "execution_count": 22,
      "outputs": [
        {
          "output_type": "stream",
          "name": "stdout",
          "text": [
            "['Barite', 'Hametite', 'Ilemite']\n"
          ]
        }
      ]
    },
    {
      "cell_type": "code",
      "source": [
        "trans_motion = [\"surge\", \"pitch\", \"sway\", \"roll\", \"heave\", \"yaw\"]\n",
        "\n",
        "trans_motion.remove(\"roll\")\n",
        "\n",
        "print(trans_motion)"
      ],
      "metadata": {
        "colab": {
          "base_uri": "https://localhost:8080/"
        },
        "id": "gPBQsi26c11k",
        "outputId": "9e2aed5b-ce9f-402a-88c8-d0c268943d58"
      },
      "execution_count": 23,
      "outputs": [
        {
          "output_type": "stream",
          "name": "stdout",
          "text": [
            "['surge', 'pitch', 'sway', 'heave', 'yaw']\n"
          ]
        }
      ]
    },
    {
      "cell_type": "code",
      "source": [
        "trans_motion.pop()"
      ],
      "metadata": {
        "colab": {
          "base_uri": "https://localhost:8080/",
          "height": 35
        },
        "id": "SA2g6K9fdYU9",
        "outputId": "06f0f9d3-6abe-4395-ca6f-3a6034c91b22"
      },
      "execution_count": 24,
      "outputs": [
        {
          "output_type": "execute_result",
          "data": {
            "application/vnd.google.colaboratory.intrinsic+json": {
              "type": "string"
            },
            "text/plain": [
              "'yaw'"
            ]
          },
          "metadata": {},
          "execution_count": 24
        }
      ]
    },
    {
      "cell_type": "code",
      "source": [
        "print(trans_motion)"
      ],
      "metadata": {
        "colab": {
          "base_uri": "https://localhost:8080/"
        },
        "id": "ZV0e2H_tdarW",
        "outputId": "84baf2a6-c924-495c-ffa9-8ac328c4fcb5"
      },
      "execution_count": 25,
      "outputs": [
        {
          "output_type": "stream",
          "name": "stdout",
          "text": [
            "['surge', 'pitch', 'sway', 'heave']\n"
          ]
        }
      ]
    },
    {
      "cell_type": "markdown",
      "source": [
        "in"
      ],
      "metadata": {
        "id": "tlMfraAAdoc8"
      }
    },
    {
      "cell_type": "code",
      "source": [
        "favs = [\"Rockstar\", \"ZNMD\", \"Barfi\", \"Tamasha\"]\n",
        "\n",
        "if \"Rockstar\" in favs:\n",
        "  print(\"Soul is one of my fav movies\")\n",
        "else:\n",
        "  print(\"Soul is not there in list\")"
      ],
      "metadata": {
        "id": "_ri39EZHdcRS"
      },
      "execution_count": null,
      "outputs": []
    }
  ]
}