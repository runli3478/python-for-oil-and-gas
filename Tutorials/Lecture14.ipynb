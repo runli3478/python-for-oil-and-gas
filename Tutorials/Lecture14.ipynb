{
  "nbformat": 4,
  "nbformat_minor": 0,
  "metadata": {
    "colab": {
      "name": "Lecture14.ipynb",
      "provenance": []
    },
    "kernelspec": {
      "name": "python3",
      "display_name": "Python 3"
    },
    "language_info": {
      "name": "python"
    }
  },
  "cells": [
    {
      "cell_type": "markdown",
      "source": [
        "Lambda expression"
      ],
      "metadata": {
        "id": "zAHtyYydISTs"
      }
    },
    {
      "cell_type": "code",
      "execution_count": 2,
      "metadata": {
        "id": "HxgquSmvoI1a",
        "colab": {
          "base_uri": "https://localhost:8080/",
          "height": 35
        },
        "outputId": "338f0ead-ead3-4b9c-b977-1bb9d4913677"
      },
      "outputs": [
        {
          "output_type": "execute_result",
          "data": {
            "application/vnd.google.colaboratory.intrinsic+json": {
              "type": "string"
            },
            "text/plain": [
              "'The pressure is 1838.2 psi'"
            ]
          },
          "metadata": {},
          "execution_count": 2
        }
      ],
      "source": [
        "def pressure(rho, h):\n",
        "  return f'The pressure is {0.052*rho*h} psi'\n",
        "\n",
        "pressure(10.1,3500)"
      ]
    },
    {
      "cell_type": "code",
      "source": [
        "press = lambda rho, h: f'The pressure is {0.052*rho*h} psi'\n",
        "\n",
        "press(10.1, 3500)"
      ],
      "metadata": {
        "colab": {
          "base_uri": "https://localhost:8080/",
          "height": 35
        },
        "id": "7XeMf7KrIe_t",
        "outputId": "b286ad20-100b-4b75-ad0e-f65bb60ccbc3"
      },
      "execution_count": 4,
      "outputs": [
        {
          "output_type": "execute_result",
          "data": {
            "application/vnd.google.colaboratory.intrinsic+json": {
              "type": "string"
            },
            "text/plain": [
              "'The pressure is 1838.2 psi'"
            ]
          },
          "metadata": {},
          "execution_count": 4
        }
      ]
    },
    {
      "cell_type": "code",
      "source": [
        "print(pressure)\n",
        "\n",
        "print('-----')\n",
        "\n",
        "print(press)\n"
      ],
      "metadata": {
        "colab": {
          "base_uri": "https://localhost:8080/"
        },
        "id": "s-5owM3cWSND",
        "outputId": "9c243a32-91ae-45db-88a7-3d643f549134"
      },
      "execution_count": 5,
      "outputs": [
        {
          "output_type": "stream",
          "name": "stdout",
          "text": [
            "<function pressure at 0x7f1aca03e170>\n",
            "-----\n",
            "<function <lambda> at 0x7f1aca00a440>\n"
          ]
        }
      ]
    },
    {
      "cell_type": "code",
      "source": [
        "def fract(a):\n",
        "  return a*100\n",
        "fract(0.24)"
      ],
      "metadata": {
        "colab": {
          "base_uri": "https://localhost:8080/"
        },
        "id": "3d2QmVz6WjLo",
        "outputId": "e7bca373-9b4e-4359-b78a-9feb4ccf5f4c"
      },
      "execution_count": 6,
      "outputs": [
        {
          "output_type": "execute_result",
          "data": {
            "text/plain": [
              "24.0"
            ]
          },
          "metadata": {},
          "execution_count": 6
        }
      ]
    },
    {
      "cell_type": "code",
      "source": [
        "fract_new = lambda a: a*100\n",
        "fract_new(0.24)"
      ],
      "metadata": {
        "colab": {
          "base_uri": "https://localhost:8080/"
        },
        "id": "FPU8TJhDXQAA",
        "outputId": "50439c21-26a2-48fb-997b-6927a896848e"
      },
      "execution_count": 7,
      "outputs": [
        {
          "output_type": "execute_result",
          "data": {
            "text/plain": [
              "24.0"
            ]
          },
          "metadata": {},
          "execution_count": 7
        }
      ]
    },
    {
      "cell_type": "code",
      "source": [
        "def flow_rate(a,b,c,d,e):\n",
        "  return (a*b*d)/(c*e)\n",
        "flow_rate(0.333,3,1,20,4)"
      ],
      "metadata": {
        "colab": {
          "base_uri": "https://localhost:8080/"
        },
        "id": "CkM6AbS4XWz-",
        "outputId": "f2eb0f61-fada-4b49-eb32-fe9996528117"
      },
      "execution_count": 10,
      "outputs": [
        {
          "output_type": "execute_result",
          "data": {
            "text/plain": [
              "4.995000000000001"
            ]
          },
          "metadata": {},
          "execution_count": 10
        }
      ]
    },
    {
      "cell_type": "code",
      "source": [
        "flow_rate_new = lambda a, b, c, d, e: (a*b*d)/(c*e)\n",
        "flow_rate_new(0.333,3,1,20,4)"
      ],
      "metadata": {
        "colab": {
          "base_uri": "https://localhost:8080/"
        },
        "id": "_6gwuZeNXjDT",
        "outputId": "536da26a-e32a-439d-a812-5461daf81771"
      },
      "execution_count": 9,
      "outputs": [
        {
          "output_type": "execute_result",
          "data": {
            "text/plain": [
              "4.995000000000001"
            ]
          },
          "metadata": {},
          "execution_count": 9
        }
      ]
    },
    {
      "cell_type": "markdown",
      "source": [
        "if else lambda expression"
      ],
      "metadata": {
        "id": "dpGr9csjYCP0"
      }
    },
    {
      "cell_type": "code",
      "source": [
        "def por(a):\n",
        "  if a<0.5:\n",
        "    print('Realistic porosity value')\n",
        "  else:\n",
        "    print(\"Unrealistic porosity value\")\n",
        "por(0.5)"
      ],
      "metadata": {
        "colab": {
          "base_uri": "https://localhost:8080/"
        },
        "id": "lHaQDiYeX5Jx",
        "outputId": "a923fc5a-c5d7-4b38-e846-433a333d4fe6"
      },
      "execution_count": 11,
      "outputs": [
        {
          "output_type": "stream",
          "name": "stdout",
          "text": [
            "Unrealistic porosity value\n"
          ]
        }
      ]
    },
    {
      "cell_type": "code",
      "source": [
        "por_new = lambda a: \"Realistic porosity value\" if a<0.5 else \"Unrealistic porosity value\"\n",
        "por_new(0.2)"
      ],
      "metadata": {
        "colab": {
          "base_uri": "https://localhost:8080/",
          "height": 35
        },
        "id": "cbBmNkXQYP4D",
        "outputId": "fdf7141c-706f-481d-cec9-4f1db7bea2e1"
      },
      "execution_count": 12,
      "outputs": [
        {
          "output_type": "execute_result",
          "data": {
            "application/vnd.google.colaboratory.intrinsic+json": {
              "type": "string"
            },
            "text/plain": [
              "'Realistic porosity value'"
            ]
          },
          "metadata": {},
          "execution_count": 12
        }
      ]
    },
    {
      "cell_type": "markdown",
      "source": [
        "Practice"
      ],
      "metadata": {
        "id": "5hGwG8FIYqOv"
      }
    },
    {
      "cell_type": "code",
      "source": [
        "def func_3(a):\n",
        "  rev = []\n",
        "  for i in a:\n",
        "    if len(i) < 5:\n",
        "      rev.append(i[::-1])\n",
        "    else:\n",
        "      rev.append(i)\n",
        "  return rev"
      ],
      "metadata": {
        "id": "5Mg0emMxYlm5"
      },
      "execution_count": 19,
      "outputs": []
    },
    {
      "cell_type": "code",
      "source": [
        "list_1 = [\"ok\", \"petroleum\", \"wong\", \"wrl\", \"3434\"]\n",
        "\n",
        "func_3(list_1)"
      ],
      "metadata": {
        "colab": {
          "base_uri": "https://localhost:8080/"
        },
        "id": "XsI5g0wxY8-6",
        "outputId": "2e8bcb58-bf59-4fde-de29-b18e85dc9b57"
      },
      "execution_count": 14,
      "outputs": [
        {
          "output_type": "execute_result",
          "data": {
            "text/plain": [
              "['ko', 'gnow', 'lrw', '4343']"
            ]
          },
          "metadata": {},
          "execution_count": 14
        }
      ]
    },
    {
      "cell_type": "code",
      "source": [
        "list_new = lambda a: [i[::-1] for i in a  if len(i) < 5]\n",
        "list_new(list_1)"
      ],
      "metadata": {
        "colab": {
          "base_uri": "https://localhost:8080/"
        },
        "id": "OLGuBpR6ZI6x",
        "outputId": "faf26a88-c58a-4da3-d088-2d8a49208f02"
      },
      "execution_count": 18,
      "outputs": [
        {
          "output_type": "execute_result",
          "data": {
            "text/plain": [
              "['ko', 'gnow', 'lrw', '4343']"
            ]
          },
          "metadata": {},
          "execution_count": 18
        }
      ]
    },
    {
      "cell_type": "code",
      "source": [
        "new_list = lambda a: [i[::-1] if len(i) < 5 else i for i in a]\n",
        "new_list(list_1)"
      ],
      "metadata": {
        "colab": {
          "base_uri": "https://localhost:8080/"
        },
        "id": "oXC4e_4uZglZ",
        "outputId": "f4857f21-9533-433b-8c83-44798ad565d7"
      },
      "execution_count": 20,
      "outputs": [
        {
          "output_type": "execute_result",
          "data": {
            "text/plain": [
              "['ko', 'petroleum', 'gnow', 'lrw', '4343']"
            ]
          },
          "metadata": {},
          "execution_count": 20
        }
      ]
    },
    {
      "cell_type": "markdown",
      "source": [
        "Map function"
      ],
      "metadata": {
        "id": "SilFR8WAampK"
      }
    },
    {
      "cell_type": "code",
      "source": [
        "mud_wt = [8.5,10.4,14.5,12.1,9.54]"
      ],
      "metadata": {
        "id": "5CFONXlmaGg2"
      },
      "execution_count": 21,
      "outputs": []
    },
    {
      "cell_type": "code",
      "source": [
        "# long method\n",
        "press = []\n",
        "for i in mud_wt:\n",
        "  press.append(0.052*i*3000)\n",
        "print(press)"
      ],
      "metadata": {
        "colab": {
          "base_uri": "https://localhost:8080/"
        },
        "id": "FHtVOfCWawho",
        "outputId": "93ace265-faf4-4fca-82a3-d6ca4d8efe5f"
      },
      "execution_count": 22,
      "outputs": [
        {
          "output_type": "stream",
          "name": "stdout",
          "text": [
            "[1326.0, 1622.3999999999999, 2262.0, 1887.6, 1488.2399999999998]\n"
          ]
        }
      ]
    },
    {
      "cell_type": "code",
      "source": [
        "# function\n",
        "def pres(l):\n",
        "  pres_new = []\n",
        "  for i in l:\n",
        "    pres_new.append(0.052*i*3000)\n",
        "  return pres_new\n",
        "pres(mud_wt)"
      ],
      "metadata": {
        "colab": {
          "base_uri": "https://localhost:8080/"
        },
        "id": "AHkyvSXEa6Vv",
        "outputId": "0f8b75f0-d7d0-4ca6-bc79-9417ec84134f"
      },
      "execution_count": 24,
      "outputs": [
        {
          "output_type": "execute_result",
          "data": {
            "text/plain": [
              "[1326.0, 1622.3999999999999, 2262.0, 1887.6, 1488.2399999999998]"
            ]
          },
          "metadata": {},
          "execution_count": 24
        }
      ]
    },
    {
      "cell_type": "code",
      "source": [
        "# list comprehension\n",
        "pressure = [0.052*i*3000 for i in mud_wt]\n",
        "print(pressure)"
      ],
      "metadata": {
        "colab": {
          "base_uri": "https://localhost:8080/"
        },
        "id": "PHaTS5ptbQod",
        "outputId": "5ec2b7b4-8171-4e2f-c778-a984f9e68f19"
      },
      "execution_count": 25,
      "outputs": [
        {
          "output_type": "stream",
          "name": "stdout",
          "text": [
            "[1326.0, 1622.3999999999999, 2262.0, 1887.6, 1488.2399999999998]\n"
          ]
        }
      ]
    },
    {
      "cell_type": "markdown",
      "source": [
        "Map function"
      ],
      "metadata": {
        "id": "o3uK1hDMb4Gf"
      }
    },
    {
      "cell_type": "code",
      "source": [
        "# map\n",
        "def func(m):\n",
        "  return 0.052*m*3000"
      ],
      "metadata": {
        "id": "RXmAzxK1bih7"
      },
      "execution_count": 26,
      "outputs": []
    },
    {
      "cell_type": "code",
      "source": [
        "list(map(func, mud_wt))"
      ],
      "metadata": {
        "colab": {
          "base_uri": "https://localhost:8080/"
        },
        "id": "6oc9NJypcJ4C",
        "outputId": "ff994302-6e12-49cb-99c3-4f54191a9dd0"
      },
      "execution_count": 28,
      "outputs": [
        {
          "output_type": "execute_result",
          "data": {
            "text/plain": [
              "[1326.0, 1622.3999999999999, 2262.0, 1887.6, 1488.2399999999998]"
            ]
          },
          "metadata": {},
          "execution_count": 28
        }
      ]
    },
    {
      "cell_type": "code",
      "source": [
        "tuple(map(func, mud_wt))"
      ],
      "metadata": {
        "colab": {
          "base_uri": "https://localhost:8080/"
        },
        "id": "gH2QbwUmcag0",
        "outputId": "2b458292-d688-4792-9294-42ae90b773be"
      },
      "execution_count": 29,
      "outputs": [
        {
          "output_type": "execute_result",
          "data": {
            "text/plain": [
              "(1326.0, 1622.3999999999999, 2262.0, 1887.6, 1488.2399999999998)"
            ]
          },
          "metadata": {},
          "execution_count": 29
        }
      ]
    },
    {
      "cell_type": "code",
      "source": [
        "# map new\n",
        "list(map(lambda m: m*0.052*3000, mud_wt))"
      ],
      "metadata": {
        "colab": {
          "base_uri": "https://localhost:8080/"
        },
        "id": "rR3XbEGocnSp",
        "outputId": "badb9f71-105d-4064-a7f3-b14084f9a5f2"
      },
      "execution_count": 30,
      "outputs": [
        {
          "output_type": "execute_result",
          "data": {
            "text/plain": [
              "[1326.0, 1622.3999999999999, 2262.0, 1887.6, 1488.2399999999998]"
            ]
          },
          "metadata": {},
          "execution_count": 30
        }
      ]
    },
    {
      "cell_type": "markdown",
      "source": [
        "Filter function"
      ],
      "metadata": {
        "id": "V_lczAZ5dEJH"
      }
    },
    {
      "cell_type": "code",
      "source": [
        "# long method\n",
        "pressure = [1205,6500,5490,3658,3449,2598,5468,1650,3499]\n",
        "abc = []\n",
        "for i in pressure:\n",
        "  if i <= 3500:\n",
        "    abc.append(i)\n",
        "print(abc)"
      ],
      "metadata": {
        "colab": {
          "base_uri": "https://localhost:8080/"
        },
        "id": "iMWIrFgVdBcx",
        "outputId": "36d3bb0e-e1ef-4825-e284-56f78b8ae846"
      },
      "execution_count": 31,
      "outputs": [
        {
          "output_type": "stream",
          "name": "stdout",
          "text": [
            "[1205, 3449, 2598, 1650, 3499]\n"
          ]
        }
      ]
    },
    {
      "cell_type": "code",
      "source": [
        "# function\n",
        "def func(a):\n",
        "  xyz = []\n",
        "  for i in a:\n",
        "    if i <= 3500:\n",
        "      xyz.append(i)\n",
        "  return xyz\n",
        "func(pressure)"
      ],
      "metadata": {
        "colab": {
          "base_uri": "https://localhost:8080/"
        },
        "id": "vtCjOJRIdeXD",
        "outputId": "99e41eac-d69d-4f7c-d200-8ab37076ca64"
      },
      "execution_count": 32,
      "outputs": [
        {
          "output_type": "execute_result",
          "data": {
            "text/plain": [
              "[1205, 3449, 2598, 1650, 3499]"
            ]
          },
          "metadata": {},
          "execution_count": 32
        }
      ]
    },
    {
      "cell_type": "code",
      "source": [
        "# list comprehension\n",
        "\n",
        "jkl = [i for i in pressure if i <= 3500]\n",
        "print(jkl)"
      ],
      "metadata": {
        "colab": {
          "base_uri": "https://localhost:8080/"
        },
        "id": "a7EUwI0_d0-H",
        "outputId": "0178d1c7-eaa7-44a7-f1fd-986e629d4bde"
      },
      "execution_count": 34,
      "outputs": [
        {
          "output_type": "stream",
          "name": "stdout",
          "text": [
            "[1205, 3449, 2598, 1650, 3499]\n"
          ]
        }
      ]
    },
    {
      "cell_type": "code",
      "source": [
        "\n",
        "def func_2(p):\n",
        "  return p <= 3500\n",
        "\n",
        "func_2(500)"
      ],
      "metadata": {
        "colab": {
          "base_uri": "https://localhost:8080/"
        },
        "id": "kISifmCNeCWX",
        "outputId": "25f9dfd2-c1de-4fed-bcb1-9a47e3f56969"
      },
      "execution_count": 36,
      "outputs": [
        {
          "output_type": "execute_result",
          "data": {
            "text/plain": [
              "True"
            ]
          },
          "metadata": {},
          "execution_count": 36
        }
      ]
    },
    {
      "cell_type": "code",
      "source": [
        "# map\n",
        "list(map(func_2, pressure))"
      ],
      "metadata": {
        "colab": {
          "base_uri": "https://localhost:8080/"
        },
        "id": "vS2Rd86feU3O",
        "outputId": "d73f5b1b-513b-4934-c59a-32363eb45a9a"
      },
      "execution_count": 37,
      "outputs": [
        {
          "output_type": "execute_result",
          "data": {
            "text/plain": [
              "[True, False, False, False, True, True, False, True, True]"
            ]
          },
          "metadata": {},
          "execution_count": 37
        }
      ]
    },
    {
      "cell_type": "code",
      "source": [
        "# filter\n",
        "list(filter(func_2, pressure))"
      ],
      "metadata": {
        "colab": {
          "base_uri": "https://localhost:8080/"
        },
        "id": "D_qDKGHSezQO",
        "outputId": "8c9dda2a-4141-4a31-f729-d13a9698c059"
      },
      "execution_count": 38,
      "outputs": [
        {
          "output_type": "execute_result",
          "data": {
            "text/plain": [
              "[1205, 3449, 2598, 1650, 3499]"
            ]
          },
          "metadata": {},
          "execution_count": 38
        }
      ]
    },
    {
      "cell_type": "markdown",
      "source": [
        "Iterables"
      ],
      "metadata": {
        "id": "lOXXwy1afWb3"
      }
    },
    {
      "cell_type": "code",
      "source": [
        "por = [0.14,0.2,0.42,0.26]\n",
        "perm = (40,24,29,37,25)\n",
        "word = \"well stimulation\"\n",
        "\n",
        "# for loop\n",
        "for i in por:\n",
        "  print(i)"
      ],
      "metadata": {
        "colab": {
          "base_uri": "https://localhost:8080/"
        },
        "id": "G_q6cnw5fK9w",
        "outputId": "ed65e1e5-9c7a-4c62-b3b3-e2c893265a80"
      },
      "execution_count": 39,
      "outputs": [
        {
          "output_type": "stream",
          "name": "stdout",
          "text": [
            "0.14\n",
            "0.2\n",
            "0.42\n",
            "0.26\n"
          ]
        }
      ]
    },
    {
      "cell_type": "code",
      "source": [
        "for i in perm:\n",
        "  print(i)"
      ],
      "metadata": {
        "colab": {
          "base_uri": "https://localhost:8080/"
        },
        "id": "tIozNkm9fluU",
        "outputId": "ecf036fb-8151-487f-cbf2-7e8c4edb9c82"
      },
      "execution_count": 40,
      "outputs": [
        {
          "output_type": "stream",
          "name": "stdout",
          "text": [
            "40\n",
            "24\n",
            "29\n",
            "37\n",
            "25\n"
          ]
        }
      ]
    },
    {
      "cell_type": "code",
      "source": [
        "for i in word:\n",
        "  print(i)"
      ],
      "metadata": {
        "colab": {
          "base_uri": "https://localhost:8080/"
        },
        "id": "0KrLCvv2foCq",
        "outputId": "6d1d2ab9-316a-4ccb-f973-2fdda85c0489"
      },
      "execution_count": 41,
      "outputs": [
        {
          "output_type": "stream",
          "name": "stdout",
          "text": [
            "w\n",
            "e\n",
            "l\n",
            "l\n",
            " \n",
            "s\n",
            "t\n",
            "i\n",
            "m\n",
            "u\n",
            "l\n",
            "a\n",
            "t\n",
            "i\n",
            "o\n",
            "n\n"
          ]
        }
      ]
    },
    {
      "cell_type": "code",
      "source": [
        "type(por)"
      ],
      "metadata": {
        "colab": {
          "base_uri": "https://localhost:8080/"
        },
        "id": "CeUTqqHgfp4F",
        "outputId": "60072a86-1e64-41f3-8c23-eaa95cd15fb9"
      },
      "execution_count": 42,
      "outputs": [
        {
          "output_type": "execute_result",
          "data": {
            "text/plain": [
              "list"
            ]
          },
          "metadata": {},
          "execution_count": 42
        }
      ]
    },
    {
      "cell_type": "code",
      "source": [
        "por_new = iter(por)\n",
        "type(por_new)"
      ],
      "metadata": {
        "colab": {
          "base_uri": "https://localhost:8080/"
        },
        "id": "l2AoKWgxgmre",
        "outputId": "99a6744f-507c-4d84-b2a7-af833718da73"
      },
      "execution_count": 48,
      "outputs": [
        {
          "output_type": "execute_result",
          "data": {
            "text/plain": [
              "list_iterator"
            ]
          },
          "metadata": {},
          "execution_count": 48
        }
      ]
    },
    {
      "cell_type": "code",
      "source": [
        "next(por_new)"
      ],
      "metadata": {
        "colab": {
          "base_uri": "https://localhost:8080/"
        },
        "id": "7EO6XtzMgsJb",
        "outputId": "d67c8c95-87c3-4bdd-fd36-a86a16cc935e"
      },
      "execution_count": 50,
      "outputs": [
        {
          "output_type": "execute_result",
          "data": {
            "text/plain": [
              "0.2"
            ]
          },
          "metadata": {},
          "execution_count": 50
        }
      ]
    },
    {
      "cell_type": "markdown",
      "source": [
        "Zip function"
      ],
      "metadata": {
        "id": "_-ki_qoNiFni"
      }
    },
    {
      "cell_type": "code",
      "source": [
        "a = [1,2,3,4]\n",
        "b = [5,6,7,8]"
      ],
      "metadata": {
        "id": "bZrX25mRgt1x"
      },
      "execution_count": 51,
      "outputs": []
    },
    {
      "cell_type": "code",
      "source": [
        "tuple(zip(a,b))"
      ],
      "metadata": {
        "colab": {
          "base_uri": "https://localhost:8080/"
        },
        "id": "HFtP84wyiPd_",
        "outputId": "3badadee-afdc-4688-c064-5e25d926e451"
      },
      "execution_count": 54,
      "outputs": [
        {
          "output_type": "execute_result",
          "data": {
            "text/plain": [
              "((1, 5), (2, 6), (3, 7), (4, 8))"
            ]
          },
          "metadata": {},
          "execution_count": 54
        }
      ]
    },
    {
      "cell_type": "code",
      "source": [
        "c = list(zip(a,b))"
      ],
      "metadata": {
        "id": "3iDWnrYTiOHS"
      },
      "execution_count": 55,
      "outputs": []
    },
    {
      "cell_type": "code",
      "source": [
        "for i in c:\n",
        "  print(i)"
      ],
      "metadata": {
        "colab": {
          "base_uri": "https://localhost:8080/"
        },
        "id": "DplFqEe8iXmC",
        "outputId": "748f97df-c5ae-4695-f082-7af11041b641"
      },
      "execution_count": 56,
      "outputs": [
        {
          "output_type": "stream",
          "name": "stdout",
          "text": [
            "(1, 5)\n",
            "(2, 6)\n",
            "(3, 7)\n",
            "(4, 8)\n"
          ]
        }
      ]
    },
    {
      "cell_type": "code",
      "source": [
        "for i, j in c:\n",
        "  print(i, j)"
      ],
      "metadata": {
        "colab": {
          "base_uri": "https://localhost:8080/"
        },
        "id": "SLGdFREmifT-",
        "outputId": "76758099-2c72-41ff-cac8-84700f67ad2b"
      },
      "execution_count": 57,
      "outputs": [
        {
          "output_type": "stream",
          "name": "stdout",
          "text": [
            "1 5\n",
            "2 6\n",
            "3 7\n",
            "4 8\n"
          ]
        }
      ]
    },
    {
      "cell_type": "markdown",
      "source": [
        "Exercise"
      ],
      "metadata": {
        "id": "jxTRDe1GisdA"
      }
    },
    {
      "cell_type": "code",
      "source": [
        "s_w = [0.1,0.2,0.3,0.4]\n",
        "s_g = [0.05,0.09,0.11,0.2]\n",
        "s_o = []\n",
        "\n",
        "for i, j in zip(s_w, s_g):\n",
        "  s_o.append(1-i-j)\n",
        "print(s_o)"
      ],
      "metadata": {
        "colab": {
          "base_uri": "https://localhost:8080/"
        },
        "id": "Bjr8ADVSipC7",
        "outputId": "759d27af-bc9a-44c7-e345-153e3c7d7919"
      },
      "execution_count": 58,
      "outputs": [
        {
          "output_type": "stream",
          "name": "stdout",
          "text": [
            "[0.85, 0.7100000000000001, 0.59, 0.39999999999999997]\n"
          ]
        }
      ]
    },
    {
      "cell_type": "code",
      "source": [
        "d = list(zip(s_w, s_g))\n",
        "print(d)"
      ],
      "metadata": {
        "colab": {
          "base_uri": "https://localhost:8080/"
        },
        "id": "XKk_xQjEjA4q",
        "outputId": "66db8465-1aa7-4a56-bfe3-7fcd0e1c3cdd"
      },
      "execution_count": 60,
      "outputs": [
        {
          "output_type": "stream",
          "name": "stdout",
          "text": [
            "[(0.1, 0.05), (0.2, 0.09), (0.3, 0.11), (0.4, 0.2)]\n"
          ]
        }
      ]
    },
    {
      "cell_type": "markdown",
      "source": [
        "Unzipping using * operator"
      ],
      "metadata": {
        "id": "dx9jkEtsjUxN"
      }
    },
    {
      "cell_type": "code",
      "source": [
        "list(zip(*d))"
      ],
      "metadata": {
        "colab": {
          "base_uri": "https://localhost:8080/"
        },
        "id": "upgnjbNfjHZL",
        "outputId": "973368fb-e895-465a-9a4c-57a4f7e6ce45"
      },
      "execution_count": 61,
      "outputs": [
        {
          "output_type": "execute_result",
          "data": {
            "text/plain": [
              "[(0.1, 0.2, 0.3, 0.4), (0.05, 0.09, 0.11, 0.2)]"
            ]
          },
          "metadata": {},
          "execution_count": 61
        }
      ]
    },
    {
      "cell_type": "code",
      "source": [
        "a = [19,24,31,34,45]\n",
        "b = [16,17,38,29,19]\n",
        "c = [24,24,40,37,15]\n",
        "d = [50,47,19,49,10]\n",
        "\n",
        "perm = list(zip(a,b,c,d))\n",
        "print(perm)"
      ],
      "metadata": {
        "colab": {
          "base_uri": "https://localhost:8080/"
        },
        "id": "X9EY1K3ojv05",
        "outputId": "80087d60-abe1-4202-b957-6ca5dae913fe"
      },
      "execution_count": 67,
      "outputs": [
        {
          "output_type": "stream",
          "name": "stdout",
          "text": [
            "[(19, 16, 24, 50), (24, 17, 24, 47), (31, 38, 40, 19), (34, 29, 37, 49), (45, 19, 15, 10)]\n"
          ]
        }
      ]
    },
    {
      "cell_type": "code",
      "source": [
        "for i, j, k, l in perm:\n",
        "  print((i+j+k+l)/4)"
      ],
      "metadata": {
        "colab": {
          "base_uri": "https://localhost:8080/"
        },
        "id": "EgsFbPNqkNiF",
        "outputId": "cc05dbca-2eb4-45b8-ca2b-631515f4a1b4"
      },
      "execution_count": 69,
      "outputs": [
        {
          "output_type": "stream",
          "name": "stdout",
          "text": [
            "27.25\n",
            "28.0\n",
            "32.0\n",
            "37.25\n",
            "22.25\n"
          ]
        }
      ]
    },
    {
      "cell_type": "code",
      "source": [
        "# short method(calculate average)\n",
        "\n",
        "for i in perm:\n",
        "  print(sum(i)/len(i))"
      ],
      "metadata": {
        "colab": {
          "base_uri": "https://localhost:8080/"
        },
        "id": "XGjIop5jkZ3z",
        "outputId": "5a694b1f-64eb-4e7e-cbe3-7c9075338be8"
      },
      "execution_count": 71,
      "outputs": [
        {
          "output_type": "stream",
          "name": "stdout",
          "text": [
            "27.25\n",
            "28.0\n",
            "32.0\n",
            "37.25\n",
            "22.25\n"
          ]
        }
      ]
    }
  ]
}